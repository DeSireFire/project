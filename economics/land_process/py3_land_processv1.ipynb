{
 "cells": [
  {
   "cell_type": "markdown",
   "metadata": {},
   "source": [
    "# 中文数据处理\n",
    "\n",
    "本python框架目的在于利用python3 对中文数据进行相关处理工作，以此能够较为稳定的处理字符编码与转换。从而方便提取有用信息。方便进行数据分析。\n",
    "\n",
    "这里主要包含 \n",
    "\n",
    "* 数据的整合\n",
    "* 数据的清理\n",
    "* 数据相关信息的提取\n",
    "* 数据的匹配\n",
    "* 地理位置信息的获取\n",
    "* 数据分析\n",
    "数据 txt文件需要放在同一目录的url文件夹下面"
   ]
  },
  {
   "cell_type": "code",
   "execution_count": 2,
   "metadata": {
    "collapsed": false
   },
   "outputs": [
    {
     "ename": "NameError",
     "evalue": "name 'reload' is not defined",
     "output_type": "error",
     "traceback": [
      "\u001b[1;31m---------------------------------------------------------------------------\u001b[0m",
      "\u001b[1;31mNameError\u001b[0m                                 Traceback (most recent call last)",
      "\u001b[1;32m<ipython-input-2-88135c4fd3cd>\u001b[0m in \u001b[0;36m<module>\u001b[1;34m()\u001b[0m\n\u001b[0;32m      5\u001b[0m \u001b[1;32mimport\u001b[0m \u001b[0mos\u001b[0m\u001b[1;33m\u001b[0m\u001b[0m\n\u001b[0;32m      6\u001b[0m \u001b[1;32mimport\u001b[0m \u001b[0mglob\u001b[0m\u001b[1;33m\u001b[0m\u001b[0m\n\u001b[1;32m----> 7\u001b[1;33m \u001b[0mreload\u001b[0m\u001b[1;33m(\u001b[0m\u001b[0msys\u001b[0m\u001b[1;33m)\u001b[0m\u001b[1;33m\u001b[0m\u001b[0m\n\u001b[0m\u001b[0;32m      8\u001b[0m \u001b[1;33m\u001b[0m\u001b[0m\n\u001b[0;32m      9\u001b[0m \u001b[1;31m# import scipy as sp\u001b[0m\u001b[1;33m\u001b[0m\u001b[1;33m\u001b[0m\u001b[0m\n",
      "\u001b[1;31mNameError\u001b[0m: name 'reload' is not defined"
     ]
    }
   ],
   "source": [
    "# encoding=utf-8\n",
    "import pandas as pd\n",
    "import numpy as np\n",
    "import sys \n",
    "import os\n",
    "import glob\n",
    "\n",
    "# import scipy as sp"
   ]
  },
  {
   "cell_type": "markdown",
   "metadata": {},
   "source": [
    "## 一级市场数据整合\n",
    "\n",
    "* 把多个数据文件合并成一个\n",
    "* 分类提取相关类型的土地数据：工业用地\n",
    "* 数据存储"
   ]
  },
  {
   "cell_type": "code",
   "execution_count": null,
   "metadata": {
    "collapsed": false
   },
   "outputs": [],
   "source": [
    "# load the file name txt format :\n",
    "path = \".\\\\info\\\\\"\n",
    "# file_list =os.listdir(path)\n",
    "file_list = glob.glob(path+'*.txt')\n",
    "file_list\n",
    "savefile=[]\n",
    "for element in file_list:\n",
    "    savefile.append(os.path.splitext(os.path.basename(element)))\n",
    "savefile\n"
   ]
  },
  {
   "cell_type": "code",
   "execution_count": null,
   "metadata": {
    "collapsed": false
   },
   "outputs": [],
   "source": [
    "## 测试\n",
    "\n",
    "data_fm=pd.read_table(path+'2014-10-4export.txt',sep='delimiter',header=None,encoding='utf-8')\n",
    "data_fm=data_fm[0].str.split('\\t').apply(pd.Series, 1)\n",
    "\n",
    "## 设置表头，重新排版\n",
    "data_fm.iloc[0]\n",
    "data_fm.columns=data_fm.iloc[0]\n",
    "data_fm=data_fm.reindex(data_fm.index.drop(0))\n",
    "data_fm=data_fm.drop(data_fm.columns[20:], axis=1)\n",
    "\n",
    "data_fm"
   ]
  },
  {
   "cell_type": "code",
   "execution_count": null,
   "metadata": {
    "collapsed": false
   },
   "outputs": [],
   "source": [
    "## 循环提取数据合并\n",
    "\n",
    "count=0\n",
    "for file_ele in file_list:\n",
    "    \n",
    "    print(file_ele)\n",
    "    temp_data_fm = pd.read_table(file_ele,sep='delimiter',header=None,encoding='utf-8')\n",
    "#     temp_data_fm = pd.read_table(file_ele,sep='delimiter',header=None,encoding='utf-8-sig')\n",
    "    temp_data_fm=temp_data_fm[0].str.split('\\t').apply(pd.Series, 1)\n",
    "    # delete the na column \n",
    "    print(temp_data_fm.shape)\n",
    "    \n",
    "    temp_data_fm=temp_data_fm.drop(temp_data_fm.columns[20:], axis=1)\n",
    "    \n",
    "    # make column name \n",
    "    temp_data_fm.iloc[0]\n",
    "    temp_data_fm.columns=temp_data_fm.iloc[0]\n",
    "    temp_data_fm=temp_data_fm.reindex(temp_data_fm.index.drop(0))\n",
    "    \n",
    "    ######\n",
    "    # merge data\n",
    "    ######\n",
    "    if count==0:\n",
    "        data_fm=temp_data_fm\n",
    "    else:\n",
    "        data_fm=data_fm.append(temp_data_fm,ignore_index=True)\n",
    "    \n",
    "    count+=1\n",
    "\n",
    "    \n"
   ]
  },
  {
   "cell_type": "code",
   "execution_count": null,
   "metadata": {
    "collapsed": false
   },
   "outputs": [],
   "source": [
    "##-------------------\n",
    "## 删除重复数据\n",
    "##-------------------\n",
    "\n",
    "print(data_fm.shape)\n",
    "data_fm = data_fm.groupby(level=0).first()\n",
    "print(data_fm.shape)\n",
    "print(data_fm[~data_fm['电子监管号'].apply(np.isreal)].shape)"
   ]
  },
  {
   "cell_type": "code",
   "execution_count": null,
   "metadata": {
    "collapsed": false
   },
   "outputs": [],
   "source": [
    "##-------------------\n",
    "## 得到工业土地数据 \n",
    "## 工业用地：拍卖、招标、挂牌\n",
    "## 仓储用地：拍卖、挂牌\n",
    "##-------------------\n",
    "\n",
    "## 判断仓储用地的供地方式类型\n",
    "data_fm[data_fm['土地用途'].str.contains('仓储用地')==True]['供地方式'].unique()\n",
    "## 判断土地用途类型\n",
    "data_fm['土地用途'].unique()    \n",
    "    \n",
    "g_data_fm=data_fm.groupby(['土地用途','供地方式'])\n",
    "\n",
    "# g_data_fm.get_group(('工业用地','拍卖出让'))\n",
    "fm_industry=pd.DataFrame(columns=data_fm.columns)\n",
    "supply_way=['拍卖出让', # not so many\n",
    "            '招标出让', # little\n",
    "            '挂牌出让'] # large\n",
    "\n",
    "for ele in supply_way:\n",
    "    fm_industry=fm_industry.append(g_data_fm.get_group((u'工业用地',ele)),ignore_index=True)\n",
    "\n",
    "fm_industry=fm_industry.append(g_data_fm.get_group((u'仓储用地','拍卖出让')),ignore_index=True)\n",
    "fm_industry=fm_industry.append(g_data_fm.get_group((u'仓储用地','挂牌出让')),ignore_index=True)"
   ]
  },
  {
   "cell_type": "markdown",
   "metadata": {},
   "source": [
    "### 存储数据"
   ]
  },
  {
   "cell_type": "code",
   "execution_count": null,
   "metadata": {
    "collapsed": false
   },
   "outputs": [],
   "source": [
    "## 存储一级市场数据 \n",
    "data_fm.to_excel(path+'data_fm.xlsx','sheet1')\n",
    "fm_industry.columns\n",
    "fm_industry.to_excel(path+'fm_industry.xlsx','sheet1')"
   ]
  },
  {
   "cell_type": "markdown",
   "metadata": {
    "collapsed": false
   },
   "source": [
    "## 数据清理\n",
    "\n",
    "* 添加索引号，方便进行定位和信息搜索\n",
    "* 规整位置信息数据-GIS定位准备\n",
    "* 规整土地价格、面积数据 为计算准备\n",
    "* 规整容积率数据\n"
   ]
  },
  {
   "cell_type": "code",
   "execution_count": null,
   "metadata": {
    "collapsed": false
   },
   "outputs": [],
   "source": [
    "### 数据载入\n",
    "# 二级市场数据\n",
    "sm_industry = pd.read_excel(\"F:\\\\DATAbase\\\\land\\\\industry.xlsx\")\n",
    "# 一级市场数据\n",
    "data_fm=pd.read_excel(path+'data_fm.xlsx')\n",
    "fm_industry=pd.read_excel(path+'data_fm.xlsx')\n"
   ]
  },
  {
   "cell_type": "markdown",
   "metadata": {},
   "source": [
    "### 添加索引号\n",
    "\n",
    "\n",
    "\n",
    "* 重新进行reindex \n",
    "* 创建索引指标，目的在于进行匹配时，方便联系一级二级匹配的数据\n",
    "* 对一、二级市场数据进行贴标签\n",
    "\n",
    "\n",
    "\n",
    "* 一级市场：标记索引号\n",
    "* 二级市场：标记索引号\n",
    "\n",
    "二级市场： 工业 0 开头 01，02... 第一位标记土地类型\n",
    "\n",
    "一级市场： 第一二位标记土地类型，第二位标记供地方式\n",
    "\n",
    "土地类型：\n",
    "\n",
    "* 工业用地-00\n",
    "* 商业用地-01\n",
    "\n",
    "\n",
    "供地方式：\n",
    "\n",
    "* 拍卖出让-01\n",
    "* 招标出让-02\n",
    "* 挂牌出让-03\n",
    "\n",
    "\n"
   ]
  },
  {
   "cell_type": "code",
   "execution_count": 3,
   "metadata": {
    "collapsed": false
   },
   "outputs": [],
   "source": []
  },
  {
   "cell_type": "code",
   "execution_count": null,
   "metadata": {
    "collapsed": false
   },
   "outputs": [],
   "source": []
  },
  {
   "cell_type": "code",
   "execution_count": null,
   "metadata": {
    "collapsed": true
   },
   "outputs": [],
   "source": [
    "## 二级市场索引\n",
    "\n",
    "# reset the index \n",
    "print(len(sm_industry))\n",
    "sm_industry=sm_industry.reset_index(drop=True) # OK \n",
    "#sm_industry.index=range(len(sm_industry)) # 可以reset\n",
    "print(sm_industry.index)\n",
    "\n",
    "# set the index column \n",
    "sm_industry['index']=\"00\"\n",
    "sm_industry['index']=sm_industry['index']+sm_industry.index.astype(str)\n",
    "\n",
    "# print(sm_industry['index'].shape)\n",
    "# sm_industry['index']"
   ]
  },
  {
   "cell_type": "code",
   "execution_count": null,
   "metadata": {
    "collapsed": true
   },
   "outputs": [],
   "source": [
    "## 一级市场\n",
    "# reset the index \n",
    "print(len(fm_industry))\n",
    "fm_industry=fm_industry.reset_index(drop=True )  \n",
    "# fm_industry.reindex(index=range(len(fm_industry)))# 无法reset \n",
    "# fm_industry.index=range(len(fm_industry)) # 可以reset\n",
    "print(fm_industry.index)\n",
    "\n",
    "\n",
    "# set the index column \n",
    "# 土地类型 工业土地为00\n",
    "fm_industry['index']=\"00\"\n",
    "# 供地方式\n",
    "temp=pd.DataFrame(index=fm_industry.index,columns=[0])\n",
    "temp[fm_industry['供地方式'].str.contains('拍卖出让')]=\"01\"\n",
    "temp[fm_industry['供地方式'].str.contains('招标出让')]=\"02\"\n",
    "temp[fm_industry['供地方式'].str.contains('挂牌出让')]=\"03\"\n",
    "\n",
    "fm_industry['index']=fm_industry['index']+temp[0]\n",
    "\n",
    "fm_industry['index']=fm_industry['index']+fm_industry.index.astype(str)\n",
    "print(fm_industry['index'].shape)"
   ]
  },
  {
   "cell_type": "code",
   "execution_count": null,
   "metadata": {
    "collapsed": true
   },
   "outputs": [],
   "source": []
  },
  {
   "cell_type": "code",
   "execution_count": null,
   "metadata": {
    "collapsed": false
   },
   "outputs": [],
   "source": [
    "## 二级市场\n",
    "sm_industry[u'最后一级'].fillna(\"-\",inplace=True)\n",
    "sm_industry[u'县'].fillna(\"-\",inplace=True)\n",
    "sm_industry[u'市'].fillna(\"-\",inplace=True)\n",
    "# tt=data_sm[u'最后一级'].str.replace(\"-\",\"+\")\n",
    "\n",
    "# data_sm[u'市']\n",
    "sm_industry[u'最后一级']=sm_industry[u'最后一级'].str.replace(\"-\",data_sm[u'县'].values[0])\n",
    "sm_industry[u'最后一级']=sm_industry[u'最后一级'].str.replace(\"-\",data_sm[u'市'].values[0])\n",
    "sm_industry[u'最后一级']=sm_industry[u'最后一级'].str.replace(\"-\",data_sm[u'省'].values[0])\n",
    "sm_industry[u'县']=sm_industry[u'县'].str.replace(\"-\",'')\n",
    "sm_industry[u'市']=sm_industry[u'市'].str.replace(\"-\",'')"
   ]
  },
  {
   "cell_type": "code",
   "execution_count": null,
   "metadata": {
    "collapsed": true
   },
   "outputs": [],
   "source": [
    "## 一级市场省、市信息抓取：\n",
    "# ### 导入字典 不是很好用\n",
    "# code=pd.read_excel('F:\\\\DATAbase\\\\land\\\\code.xls')\n",
    "# ###\n",
    "\n",
    "# tat=df['电子监管号'].str[0:6].astype(int).apply(lambda x:code[code[u'地址码']==x][u'对应地址'].values)\n",
    "# # print code[code[u'地址码']==411328][u'对应地址']\n",
    "# tat=list(tat)\n",
    "# tat=pd.DataFrame(tat,index=df.index)\n",
    "# 转化为字典进行映射\n",
    "\n",
    "# dic_code=dict(list(code.groupby(u'地址码')))\n",
    "# def mapp(x):\n",
    "#     if dic_code.has_key(x): \n",
    "#         return dic_code[x][u'对应地址'].values[0] \n",
    "#     else : \n",
    "#         return \"\"\n",
    "\n",
    "\n",
    "# tatt=df['电子监管号'].str[0:2].astype(int).map(mapp)\n",
    "# df['省']=tatt\n",
    "# tatt=df['电子监管号'].str[0:4].astype(int).map(mapp)\n",
    "# df['市']=tatt"
   ]
  },
  {
   "cell_type": "markdown",
   "metadata": {
    "collapsed": true
   },
   "source": [
    "### 土地价格、面积、容积率的清理"
   ]
  },
  {
   "cell_type": "code",
   "execution_count": null,
   "metadata": {
    "collapsed": true
   },
   "outputs": [],
   "source": [
    "#######################\n",
    "# 二级市场\n",
    "#######################\n",
    "\n",
    "###################\n",
    "#面积 规整到平方米\n",
    "###################\n",
    "dd=sm_industry[sm_industry[u'面积'].str.contains(u\"亩\")][u'面积'].str.replace(u\"亩\",\"\").astype(float)*666.67\n",
    "dd=dd.append(sm_industry[sm_industry[u'面积'].str.contains(u\"平方米\")][u'面积'].str.replace(u\"平方米\",\"\").astype(float))\n",
    "dd=dd.append(sm_industry[sm_industry[u'面积'].str.contains(u\"公顷\")][u'面积'].str.replace(u\"公顷\",\"\").astype(float)*10000)\n",
    "print(dd.shape)\n",
    "sm_industry[u'面积']=dd\n",
    "\n",
    "\n",
    "#####################\n",
    "#价格\n",
    "#####################\n",
    "\n",
    "import re\n",
    "sm_industry=sm_industry[sm_industry[u'转让费'].str.contains(u\"万|亿元\")]\n",
    "dd=sm_industry[sm_industry[u'转让费'].str.contains(u\"万元\")][u'转让费'].str.replace(u\"万元\",'').str.extract(r'(\\d+)')\n",
    "dd=dd.append(sm_industry[sm_industry[u'转让费'].str.contains(u\"亿元\")][u'转让费'].str.extract(r'(\\d+)').astype(float)*10000)\n",
    "sm_industry[u'转让费']=dd\n",
    "\n",
    "\n",
    "####################\n",
    "#容积率\n",
    "####################\n",
    "\n",
    "sm_industry[u'容积率']=sm_industry[sm_industry[u'详细信息'].str.contains(u'容积率')][u'详细信息'].str.extract(r'容积率(\\d+\\.\\d+)')\n",
    "sm_industry[u'容积率'].fillna(-999,inplace=True)\n",
    "sm_industry[u'容积率'].astype(str)"
   ]
  },
  {
   "cell_type": "code",
   "execution_count": null,
   "metadata": {
    "collapsed": true
   },
   "outputs": [],
   "source": [
    "#######################\n",
    "# 一级级市场  工业用地\n",
    "#######################\n",
    "\n",
    "######################\n",
    "#面积：平方米\n",
    "######################\n",
    "fm_industry[u'面积(公顷)']=fm_industry[u'面积(公顷)'].astype(float)*10000\n",
    "\n",
    "\n",
    "#####################\n",
    "#价格：万元\n",
    "#####################\n",
    "fm_industry['成交价格(万元)']=fm_industry['成交价格(万元)'].astype(float)\n",
    "\n",
    "\n",
    "#####\n",
    "# 容积率\n",
    "#####\n",
    "fm_industry[u'约定容积率上限'].fillna(-999,inplace=True)\n",
    "fm_industry[u'约定容积率上限'].astype(float)\n",
    "\n",
    "#####\n",
    "# 土地使用年限\n",
    "#####\n",
    "fm_industry.loc[fm_industry['土地使用年限'].str.contains(\"工业\"),'土地使用年限']=50"
   ]
  },
  {
   "cell_type": "markdown",
   "metadata": {},
   "source": [
    "### 存储数据"
   ]
  },
  {
   "cell_type": "code",
   "execution_count": null,
   "metadata": {
    "collapsed": true
   },
   "outputs": [],
   "source": [
    "## save the data \n",
    "# data_fm.to_excel(path+'data_fm.xlsx','Sheet1')\n",
    "fm_industry.to_excel(path+'fm_industry.xlsx','sheet1')\n",
    "sm_industry.to_excel(path+'sm_industry.xlsx','sheet1')"
   ]
  },
  {
   "cell_type": "markdown",
   "metadata": {},
   "source": [
    "## 一级二级市场数据匹配\n",
    "\n",
    "* 导入整理后的数据\n",
    "* 进行切词测试\n",
    "* 匹配数据\n",
    "    * 行政级别定位  县级\n",
    "    * 按地址匹配   初步匹配\n",
    "    * 容积率，面积，精确匹配\n",
    "    * 地理坐标位置转换进行匹配"
   ]
  },
  {
   "cell_type": "code",
   "execution_count": null,
   "metadata": {
    "collapsed": true
   },
   "outputs": [],
   "source": [
    "import pandas as pd\n",
    "import numpy  as np\n",
    "import jieba "
   ]
  },
  {
   "cell_type": "code",
   "execution_count": null,
   "metadata": {
    "collapsed": true
   },
   "outputs": [],
   "source": [
    "## 数据载入\n",
    "path = \"F:\\\\DATAbase\\\\land\\\\HDF\\\\\"\n",
    "fm_df = pd.read_excel(path+'fm_df.xlsx')\n",
    "sm_df = pd.read_excel(path+'sm_df.xlsx')"
   ]
  },
  {
   "cell_type": "code",
   "execution_count": null,
   "metadata": {
    "collapsed": true
   },
   "outputs": [],
   "source": [
    "################# \n",
    "# jieba 切词 \n",
    "#################\n",
    "# add dictionary\n",
    "# keyword=[]\n",
    "# datafile=open('F:\\\\DATAbase\\\\land\\\\tttt3.txt')\n",
    "# for line in datafile.readlines():\n",
    "#     keyword.append(line)\n",
    "    \n",
    "# datafile.close()\n",
    "\n",
    "def filter_address(demo):\n",
    "    new2_str=[u'镇',u'路',u'村',u'楼']\n",
    "    #倒叙删除\n",
    "    for i in range(len(demo)-1,-1,-1):\n",
    "        if  any( str_ in demo[i] for str_ in new2_str) and len(demo[i])<3 :\n",
    "#             print('true')\n",
    "            demo[i-1]=demo[i-1]+demo[i]\n",
    "            del demo[i]\n",
    "    return demo\n",
    "\n",
    "demo=list(jieba.cut((u\"朝阳区幸福二村24号楼\")))\n",
    "xxx=filter_address(demo)\n",
    "print(xxx)\n"
   ]
  },
  {
   "cell_type": "code",
   "execution_count": null,
   "metadata": {
    "collapsed": true
   },
   "outputs": [],
   "source": [
    "match_column=['mindex','location','address','lyear','area','price','plot_ratio']\n",
    "match_column2=['mindex','level','mkey_1','location','address','lyear','area','price','plot_ratio']\n",
    "cand_col_fm=['mindex',u'行政区',u'项目位置',u'土地使用年限',u'面积(公顷)',u'成交价格(万元)',u'约定容积率上限']\n",
    "cand_col_fm2=['mindex','level','mkey_1',u'行政区',u'项目位置',u'土地使用年限',u'面积(公顷)',u'成交价格(万元)',u'约定容积率上限']\n",
    "cand_col_sm=['mindex',u'县',u'地址',u'剩余年限',u'面积',u'转让费',u'容积率']\n",
    "cand_col_sm2=['mindex','level','mkey_1',u'县',u'地址',u'剩余年限',u'面积',u'转让费',u'容积率']\n",
    "\n",
    "fm_df.rename(columns=dict(zip(cand_col_fm,match_column)), inplace=True)\n",
    "sm_df.rename(columns=dict(zip(cand_col_sm,match_column)), inplace=True)\n",
    "\n",
    "## construct the match data 二级市场\n",
    "match_sm_data=pd.DataFrame(columns = match_column2) # output matched pair data of second market\n",
    "## construct the match data 一级市场\n",
    "match_fm_data=pd.DataFrame(columns = match_column2 )\n",
    "\n",
    "print(match_sm_data)\n",
    "print(match_sm_data)"
   ]
  },
  {
   "cell_type": "code",
   "execution_count": null,
   "metadata": {
    "collapsed": true
   },
   "outputs": [],
   "source": [
    "print(fm_df.columns)\n",
    "print(sm_df.columns)"
   ]
  },
  {
   "cell_type": "code",
   "execution_count": null,
   "metadata": {
    "collapsed": true
   },
   "outputs": [],
   "source": [
    "print(fm_df.columns)\n",
    "print(sm_df.columns)"
   ]
  },
  {
   "cell_type": "code",
   "execution_count": null,
   "metadata": {
    "collapsed": true
   },
   "outputs": [],
   "source": [
    "result_fm_data=pd.DataFrame(columns=match_column2)\n",
    "result_sm_data=pd.DataFrame(columns=match_column2)\n",
    "\n",
    "for key in county_sm_dict:\n",
    "    if key in county_fm_dict:\n",
    "        temp_fm = county_fm_dict[key]\n",
    "        temp_fm = temp_fm[match_column]\n",
    "        temp_fm['level']=0\n",
    "        temp_fm['mkey_1']=u\"\"\n",
    "\n",
    "\n",
    "        for j in range(len(county_sm_dict[key])):\n",
    "            temp_sm=county_sm_dict[key].iloc[j]\n",
    "            temp_sm=temp_sm[match_column]\n",
    "\n",
    "            temp_sm['mkey_1']=\"\"\n",
    "            temp_sm['level']=0\n",
    "            \n",
    "            print(temp_sm['address'])\n",
    "            temp_add=list(jieba.cut(temp_sm[u'address']))\n",
    "            \n",
    "            temp_add2=filter_address(temp_add) # get the candidated address\n",
    "\n",
    "            # get the first market data-slice\n",
    "\n",
    "            ## 标记等级 一级市场\n",
    "            for ele in temp_add2: #循环过滤\n",
    "                temp_fm.loc[temp_fm['address'].str.contains(ele)==True,'level']+=1\n",
    "\n",
    "            ## get the maxed \n",
    "            max_match_level=np.max(temp_fm['level'])\n",
    "\n",
    "\n",
    "            ## 标记等级 二级市场\n",
    "            temp_fm['level'].fillna(0,inplace=True)\n",
    "            temp_sm['level']=max_match_level\n",
    "\n",
    "\n",
    "            ### 记录位置\n",
    "\n",
    "\n",
    "            temp_fm.loc[temp_fm['level']>=1,'mkey_1']+=temp_fm['level'].astype(str)+\"|\"+temp_sm['mindex'].astype(str)+u\"-\"\n",
    "#             print temp_fm['mkey_1']\n",
    "\n",
    "\n",
    "            for ele in temp_fm.loc[temp_fm['level']==np.max(temp_fm['level']),'mindex']:\n",
    "                temp_sm.loc['mkey_1']+=temp_sm['level'].astype(str)+\"|\"+ele.astype(str)+u\"-\"    \n",
    "\n",
    "\n",
    "\n",
    "            ### 存储二级市场信息\n",
    "            if temp_sm['level']>=1 :\n",
    "                match_sm_data=match_sm_data.append(temp_sm,ignore_index=True)\n",
    "\n",
    "        ### rename the dataframe    \n",
    "#         temp_fm.rename(columns=dict(zip(cand_col_fm2,match_column)), inplace=True)\n",
    "#         result_sm_data.rename(columns=dict(zip(cand_col_sm2,match_column)), inplace=True)\n",
    "\n",
    "        ### save the result\n",
    "        temp_fm=temp_fm[temp_fm['level']>=1]\n",
    "        match_fm_data=match_fm_data.append(temp_fm,ignore_index=True)\n",
    "        \n",
    "        result_sm_data=[]\n",
    "         "
   ]
  },
  {
   "cell_type": "code",
   "execution_count": null,
   "metadata": {
    "collapsed": true
   },
   "outputs": [],
   "source": [
    "print(match_sm_data.shape)\n",
    "print(match_fm_data.shape)"
   ]
  },
  {
   "cell_type": "code",
   "execution_count": null,
   "metadata": {
    "collapsed": true
   },
   "outputs": [],
   "source": [
    "match_fm_data.to_excel(path+'match_fm.xlsx','sheet1')\n",
    "match_sm_data.to_excel(path+'match_sm.xlsx','sheet1')"
   ]
  },
  {
   "cell_type": "markdown",
   "metadata": {},
   "source": [
    "## GIS信息获取\n",
    "\n",
    "本程序目的在于方便进行大批量地理位置信息转换，从地址信息转换成经纬度。具体信息可参考LBS百度云。\n",
    "\n",
    "操作方式如下：\n",
    "\n",
    "1. 原始数据中提取所需要的地址信息，行政区信息（县、省等）\n",
    "2. 把相关地址信息和行政区信息导入到info_data中\n",
    "3. 运行程序，输出两个结果，第一个为地理位置信息的dataframe,第二个则为出错信息的list.\n",
    "\n",
    "错误与获取信息失败的处理：\n",
    "\n",
    "* 出错信息用\"-\"表示，返回无效地址为：\"\"\n",
    "* \"-\"可以进行再次尝试,fail_list2 中存储了\"-\"\n",
    "* \"\"可以进行再次尝试,fail_list 中存储了\"\"\n",
    "\n",
    "### 程序解释\n",
    "\n",
    "* 函数baidu_gis是进行信息查询的预先处理，遵循LBS百度云api接口相关规定，主要进行密钥加密 （中文编码是一个急需解决的大问题）\n",
    "* 多线程进行"
   ]
  },
  {
   "cell_type": "code",
   "execution_count": null,
   "metadata": {
    "collapsed": true
   },
   "outputs": [],
   "source": [
    "import pandas as pd\n",
    "import numpy as np\n",
    "import sys \n",
    "# from pandas import Series,DataFrame\n",
    "import urllib\n",
    "import hashlib\n",
    "import requests\n",
    "import math\n",
    "import re\n",
    "import json\n",
    "import copy"
   ]
  },
  {
   "cell_type": "code",
   "execution_count": null,
   "metadata": {
    "collapsed": true
   },
   "outputs": [],
   "source": [
    "## 数据载入\n",
    "path = \"F:\\\\DATAbase\\\\land\\\\HDF\\\\\"\n",
    "fm_df = pd.read_excel(path+'fm_df.xlsx')\n",
    "sm_df = pd.read_excel(path+'sm_df.xlsx')"
   ]
  },
  {
   "cell_type": "code",
   "execution_count": null,
   "metadata": {
    "collapsed": true
   },
   "outputs": [],
   "source": [
    "### 转换函数\n",
    "def baidu_gis(queryStr):\n",
    "    '''\n",
    "    queryStr 包括了请求百api的url 地址\n",
    "    以get请求为例http://api.map.baidu.com/geocoder/v2/?address=百度大厦&output=json&ak=yourak\n",
    "    并且对url 转码 除了保留字符不转换，其余要进行转码加密\n",
    "    \n",
    "    '''\n",
    "    \n",
    "    GIS_result=[]\n",
    "    api_link=[]\n",
    "    error_count=0\n",
    "    # 对queryStr进行转码，safe内的保留字符不转换\n",
    "    for ele in queryStr:\n",
    "        encodedStr=urllib.parse.quote(ele, safe=\"/:=&?#+!$,;'@()*[]\")\n",
    "        # 在最后直接追加上yoursk\n",
    "        rawStr = encodedStr + 'DTtxldoesco94o9YZT3RuGlKarBGr7Xv'\n",
    "\n",
    "        sn = hashlib.md5(urllib.parse.quote_plus(rawStr).encode('utf-8')).hexdigest()\n",
    "\n",
    "        api_link.append('http://api.map.baidu.com'+ele+\"&sn=\"+sn)\n",
    "        \n",
    "        \n",
    "    return api_link\n",
    "\n",
    "\n",
    "# In[ ]:\n",
    "\n",
    "dict_convert={\n",
    "    'preffix':'/geocoder/v2/?',\n",
    "    'suffix':'&output=json&ak=9gTAEoFWvBoKHl3u3dFp5ff7',\n",
    "    'title': u'title=',\n",
    "    'address': u'&address=',\n",
    "    'province': u'&province=',\n",
    "    'city': u'&city=',\n",
    "    'district': u'&disctrict='    \n",
    "}\n",
    "key_id_list=['title','address','province','city','district']\n",
    "\n",
    "\n",
    "def convert(data):\n",
    "    '''\n",
    "    data is a dataframe format saving the \n",
    "    info of geo info\n",
    "    \n",
    "    '''\n",
    "    \n",
    "    row,col=data.shape\n",
    "    query_info=''\n",
    "    for ele in data.columns:\n",
    "        query_info+=dict_convert[ele] + data[ele]\n",
    "\n",
    "    query_info=dict_convert['preffix']+query_info+dict_convert['suffix']\n",
    "    query_info.fillna(\"\",inplace=True)\n",
    "    \n",
    "    return query_info\n",
    "    "
   ]
  },
  {
   "cell_type": "code",
   "execution_count": null,
   "metadata": {
    "collapsed": true
   },
   "outputs": [],
   "source": [
    "## 地址转换\n",
    "col_name_sm=[u'省',u'市',u'县',u'地址']\n",
    "col_name_fm=[u'行政区',u'项目位置']\n",
    "gis_name_sm=['province','city','district','address']\n",
    "gis_name_fm=['district','address']\n",
    "\n",
    "flag=input('whether sm or fm')\n",
    "if flag=='sm':\n",
    "    data_geo=sm_df[col_name_sm]\n",
    "    data_geo.rename(columns=dict(zip(col_name_sm,gis_name_sm)),inplace=True)\n",
    "else:\n",
    "    data_geo=fm_df[col_name_fm]\n",
    "    data_geo.rename(columns=dict(zip(col_name_fm,gis_name_fm)),inplace=True)\n",
    "\n",
    "# data_geo.rename(columns=dict(zip(col_name,gis_name)),inplace=True)\n"
   ]
  },
  {
   "cell_type": "code",
   "execution_count": null,
   "metadata": {
    "collapsed": true
   },
   "outputs": [],
   "source": [
    "query_info=convert(data_geo)\n",
    "geo_link=baidu_gis(query_info)"
   ]
  },
  {
   "cell_type": "code",
   "execution_count": null,
   "metadata": {
    "collapsed": true
   },
   "outputs": [],
   "source": [
    "import queue\n",
    "import threading\n",
    "import time\n",
    "import copy, sys \n",
    "\n",
    "exitFlag = 0\n",
    "tn=20\n",
    "print('we are dealing with: %s' %flag)\n",
    "\n",
    "headers = {'user-agent': 'Mozilla/5.0 (Windows NT 6.3; WOW64) AppleWebKit/537.36 (KHTML, like Gecko) Chrome/40.0.2214.93 Safari/537.36'}\n",
    "req=[]\n",
    "GIS_result=[]\n",
    "fail_link=[]\n",
    "class myThread (threading.Thread):\n",
    "    def __init__(self, threadID, name, q):\n",
    "        threading.Thread.__init__(self)\n",
    "        self.threadID = threadID\n",
    "        self.name = name\n",
    "        self.q = q\n",
    "        self.header={'user-agent': 'Mozilla/5.0 (Windows NT 10.0; WOW64) AppleWebKit/537.36 (KHTML, like Gecko) Chrome/45.0.2454.85 Safari/537.36'}\n",
    "    def run(self):\n",
    "        print(\"Starting \" + self.name)\n",
    "        process_data(self.name, self.q,self.header)\n",
    "\n",
    "def process_data(threadName, q, header):\n",
    "    while not exitFlag:\n",
    "        queueLock.acquire()\n",
    "        if not workQueue.empty():\n",
    "            data = q.get()\n",
    "            try: \n",
    "                req = requests.get(data)\n",
    "#                 print(req.json())\n",
    "                if req.json()[u'status']==211:\n",
    "                    print(\"error occur\")\n",
    "                    time.sleep(1)\n",
    "                    req = requests.get(data)\n",
    "                    print(req.json())\n",
    "                if req.json()[u'status']==211:\n",
    "                    time.sleep(1)\n",
    "                    req = requests.get(data)\n",
    "                    print(req.json())\n",
    "                try:\n",
    "                    content = req.json()\n",
    "                    result = content['result']\n",
    "                    location = result['location']\n",
    "                    x = location['lat']\n",
    "                    y = location['lng']\n",
    "                    temp_result=(x,y,result['confidence'])\n",
    "                    GIS_result.append(copy.deepcopy(temp_result))\n",
    "                except: \n",
    "                    temp_result=(\"\",\"\",\"\")\n",
    "                    GIS_result.append(copy.deepcopy(temp_result))\n",
    "            except :\n",
    "                fail_link.append(data)\n",
    "                temp_result=(\"-\",\"-\",\"-\")\n",
    "                GIS_result.append(copy.deepcopy(temp_result))\n",
    "            \n",
    "            queueLock.release()\n",
    "            print(\"%s processing:  %s\" % (threadName, temp_result))\n",
    "        else:\n",
    "            queueLock.release()\n",
    "        time.sleep(1)\n",
    "\n",
    "threadList = [\"T1\", \"T2\", \"T3\",\"T4\"]\n",
    "queueLock = threading.Lock()\n",
    "fm_url=[]\n",
    "\n",
    "\n",
    "\n",
    "workQueue = queue.Queue(tn)\n",
    "threads = []\n",
    "threadID = 1\n",
    "\n",
    "# 创建新线程\n",
    "for tName in threadList:\n",
    "    print(\"create thread\")\n",
    "    thread = myThread(threadID, tName, workQueue)\n",
    "    thread.start()\n",
    "    threads.append(thread)\n",
    "    threadID += 1\n",
    "\n",
    "# 填充队列\n",
    "queueLock.acquire()\n",
    "for word in geo_link[:tn]:\n",
    "    workQueue.put(word)\n",
    "queueLock.release()\n",
    "\n",
    "# 等待队列清空\n",
    "while not workQueue.empty():\n",
    "    pass\n",
    "\n",
    "# 通知线程是时候退出\n",
    "exitFlag = 1\n",
    "\n",
    "# 等待所有线程完成\n",
    "for t in threads:\n",
    "    t.join()\n",
    "print(\"Exiting Main Thread\")\n",
    "\n",
    "GIS_df=pd.DataFrame(GIS_result,columns=['lat','lng','confidence'])\n",
    "print(GIS_df)\n",
    "\n",
    "print(\"the num of empty GIS is : \")\n",
    "print(len(GIS_df[GIS_df['lat']==\"\"]))\n",
    "\n",
    "GIS_ind=pd.concat([data_geo,GIS_df],axis=1)\n",
    "\n",
    "\n",
    "\n",
    "if flag=='sm':\n",
    "    ## save the result in the total info data\n",
    "    cand_col_sm=['mindex',u'县',u'地址',u'剩余年限',u'面积',u'转让费',u'容积率']\n",
    "    sm_GIS=pd.concat([sm_df[cand_col_sm],GIS_df],axis=1)\n",
    "\n",
    "else:\n",
    "    ## save the result in the  data\n",
    "    cand_col_fm=['mindex',u'行政区',u'项目位置',u'土地使用年限',u'面积(公顷)',u'成交价格(万元)',u'约定容积率上限']\n",
    "    sm_GIS=pd.concat([fm_df[cand_col_fm],GIS_df],axis=1)"
   ]
  },
  {
   "cell_type": "code",
   "execution_count": null,
   "metadata": {
    "collapsed": true
   },
   "outputs": [],
   "source": [
    "GIS_ind=pd.concat([data_geo,GIS_df],axis=1)\n",
    "GIS_ind"
   ]
  },
  {
   "cell_type": "code",
   "execution_count": null,
   "metadata": {
    "collapsed": true
   },
   "outputs": [],
   "source": [
    "GIS_ind.to_excel(path+'GIS_fm.xlsx','fm')\n",
    "GIS_ind.to_excel(path+'GIS_fm.xlsx','fm')"
   ]
  },
  {
   "cell_type": "markdown",
   "metadata": {},
   "source": [
    "## 数据分析\n",
    "\n",
    "### 画图和数据展示\n",
    "\n",
    "本note目的在于画出一二级市场价格差的散点图和其他相关数据\n",
    "\n",
    "* 价格差的散点图\n",
    "* 地理位置分布图\n"
   ]
  },
  {
   "cell_type": "code",
   "execution_count": 9,
   "metadata": {
    "collapsed": true
   },
   "outputs": [],
   "source": [
    "import pandas as pd\n",
    "import numpy as np\n",
    "import matplotlib.pyplot as plt\n",
    "%matplotlib inline"
   ]
  },
  {
   "cell_type": "code",
   "execution_count": null,
   "metadata": {
    "collapsed": true
   },
   "outputs": [],
   "source": [
    "## 散点图\n",
    "\n",
    "# load data\n",
    "path='F:\\\\DATAbase\\\\land\\\\HDF\\\\'\n",
    "fm_match=pd.read_excel(path+'match_fm.xlsx')\n",
    "sm_match=pd.read_excel(path+'match_sm.xlsx')"
   ]
  },
  {
   "cell_type": "code",
   "execution_count": null,
   "metadata": {
    "collapsed": true
   },
   "outputs": [],
   "source": [
    "# 数据预先处理\n",
    "fm_match['p_a']=fm_match['price']/fm_match['area']\n",
    "\n",
    "sm_match['p_a']=sm_match['price']/sm_match['area']\n",
    "# sm_match=sm_match[sm_match['level']>=1]\n",
    "\n",
    "\n",
    "# print(fm_match.head())\n",
    "# print(sm_match.head())"
   ]
  },
  {
   "cell_type": "code",
   "execution_count": null,
   "metadata": {
    "collapsed": true
   },
   "outputs": [],
   "source": [
    "sm_group=sm_match.groupby('location')\n",
    "fm_group=fm_match.groupby('location')"
   ]
  },
  {
   "cell_type": "code",
   "execution_count": null,
   "metadata": {
    "collapsed": true
   },
   "outputs": [],
   "source": [
    "## 取平均数 + 数据合并\n",
    "p_a_df=sm_group.p_a.mean()\n",
    "p_a_df=pd.DataFrame(p_a_df)\n",
    "p_a_df=p_a_df.rename(columns={'p_a':'p_a_sm'})\n",
    "p_a_df=pd.concat([p_a_df,fm_group.p_a.mean()],axis=1)\n",
    "p_a_df=p_a_df.rename(columns={'p_a':'p_a_fm'})\n",
    "\n",
    "p_a_df['p_a_fm'].fillna('-',inplace=True)\n",
    "p_a_df=p_a_df[p_a_df['p_a_fm'].str.contains('-')!=True]"
   ]
  },
  {
   "cell_type": "code",
   "execution_count": null,
   "metadata": {
    "collapsed": true
   },
   "outputs": [],
   "source": [
    "# p_a_df.plot(x=p_a_df.index,y=p_a_df[['p_a_sm','p_a_fm']],kind='scatter')\n",
    "p_a_df.plot()"
   ]
  }
 ],
 "metadata": {
  "kernelspec": {
   "display_name": "Python 3",
   "language": "python",
   "name": "python3"
  },
  "language_info": {
   "codemirror_mode": {
    "name": "ipython",
    "version": 3
   },
   "file_extension": ".py",
   "mimetype": "text/x-python",
   "name": "python",
   "nbconvert_exporter": "python",
   "pygments_lexer": "ipython3",
   "version": "3.4.3"
  }
 },
 "nbformat": 4,
 "nbformat_minor": 0
}
