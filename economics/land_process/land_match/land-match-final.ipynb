{
 "cells": [
  {
   "cell_type": "markdown",
   "metadata": {},
   "source": [
    "# 匹配数据\n",
    "\n",
    "\n",
    "* 导入整理后的数据\n",
    "* 进行切词测试\n",
    "* 匹配数据\n",
    "    * 行政级别定位  县级\n",
    "    * 按地址匹配   初步匹配\n",
    "    * 容积率，面积，精确匹配\n",
    "    * 地理坐标位置转换进行匹配\n"
   ]
  },
  {
   "cell_type": "code",
   "execution_count": null,
   "metadata": {
    "collapsed": false
   },
   "outputs": [],
   "source": [
    "## version python 3 \n",
    "import pandas as pd\n",
    "import numpy  as np\n",
    "import jieba "
   ]
  },
  {
   "cell_type": "code",
   "execution_count": null,
   "metadata": {
    "collapsed": false
   },
   "outputs": [],
   "source": [
    "path = \"F:\\\\DATAbase\\\\land\\\\HDF\\\\\"\n",
    "fm_df = pd.read_excel(path+'fm_df.xlsx')\n",
    "sm_df = pd.read_excel(path+'sm_df.xlsx')"
   ]
  },
  {
   "cell_type": "code",
   "execution_count": null,
   "metadata": {
    "collapsed": false
   },
   "outputs": [],
   "source": [
    "### \n",
    "# test for jieba 切词 \n",
    "###\n",
    "# add dictionary\n",
    "keyword=[]\n",
    "datafile=open('F:\\\\DATAbase\\\\land\\\\tttt3.txt')\n",
    "for line in datafile.readlines():\n",
    "    keyword.append(line)\n",
    "    \n",
    "datafile.close()\n",
    "\n",
    "\n",
    "demo=list(jieba.cut((u\"朝阳区幸福二村24号楼\")))\n",
    "\n",
    "def filter_address(demo):\n",
    "    new2_str=[u'镇',u'路',u'村',u'楼']\n",
    "    #倒叙删除\n",
    "    for i in range(len(demo)-1,-1,-1):\n",
    "        if  any( str_ in demo[i] for str_ in new2_str) and len(demo[i])<3 :\n",
    "#             print('true')\n",
    "            demo[i-1]=demo[i-1]+demo[i]\n",
    "            del demo[i]\n",
    "    return demo\n",
    "xxx=filter_address(demo)\n",
    "print(xxx)\n"
   ]
  },
  {
   "cell_type": "code",
   "execution_count": null,
   "metadata": {
    "collapsed": false
   },
   "outputs": [],
   "source": [
    "match_column=['mindex','location','address','lyear','area','price','plot_ratio']\n",
    "match_column2=['mindex','level','mkey_1','location','address','lyear','area','price','plot_ratio']\n",
    "cand_col_fm=['mindex',u'行政区',u'项目位置',u'土地使用年限',u'面积(公顷)',u'成交价格(万元)',u'约定容积率上限']\n",
    "cand_col_fm2=['mindex','level','mkey_1',u'行政区',u'项目位置',u'土地使用年限',u'面积(公顷)',u'成交价格(万元)',u'约定容积率上限']\n",
    "cand_col_sm=['mindex',u'县',u'地址',u'剩余年限',u'面积',u'转让费',u'容积率']\n",
    "cand_col_sm2=['mindex','level','mkey_1',u'县',u'地址',u'剩余年限',u'面积',u'转让费',u'容积率']\n",
    "\n",
    "fm_df.rename(columns=dict(zip(cand_col_fm,match_column)), inplace=True)\n",
    "sm_df.rename(columns=dict(zip(cand_col_sm,match_column)), inplace=True)\n",
    "\n",
    "## construct the match data 二级市场\n",
    "match_sm_data=pd.DataFrame(columns = match_column2) # output matched pair data of second market\n",
    "## construct the match data 一级市场\n",
    "match_fm_data=pd.DataFrame(columns = match_column2 )\n",
    "\n",
    "print(match_sm_data)\n",
    "print(match_sm_data)"
   ]
  },
  {
   "cell_type": "code",
   "execution_count": null,
   "metadata": {
    "collapsed": false
   },
   "outputs": [],
   "source": [
    "print(fm_df.columns)\n",
    "print(sm_df.columns)"
   ]
  },
  {
   "cell_type": "code",
   "execution_count": null,
   "metadata": {
    "collapsed": false
   },
   "outputs": [],
   "source": [
    "# #分组 一级市场\n",
    "group_fm = fm_df.groupby(u'location')\n",
    "county_fm_dict = dict(list(group_fm))\n",
    "county_fm_name=list(county_fm_dict.keys())\n",
    "\n",
    "# #分组 二级市场\n",
    "group_sm=sm_df.groupby(u'location')\n",
    "county_sm_dict = dict(list(group_sm))\n",
    "county_sm_name=list(county_sm_dict.keys())"
   ]
  },
  {
   "cell_type": "code",
   "execution_count": null,
   "metadata": {
    "collapsed": false
   },
   "outputs": [],
   "source": [
    "result_fm_data=pd.DataFrame(columns=match_column2)\n",
    "result_sm_data=pd.DataFrame(columns=match_column2)\n",
    "\n",
    "for key in county_sm_dict:\n",
    "    if key in county_fm_dict:\n",
    "        temp_fm = county_fm_dict[key]\n",
    "        temp_fm = temp_fm[match_column]\n",
    "        temp_fm['level']=0\n",
    "        temp_fm['mkey_1']=u\"\"\n",
    "\n",
    "\n",
    "        for j in range(len(county_sm_dict[key])):\n",
    "            temp_sm=county_sm_dict[key].iloc[j]\n",
    "            temp_sm=temp_sm[match_column]\n",
    "\n",
    "            temp_sm['mkey_1']=\"\"\n",
    "            temp_sm['level']=0\n",
    "            \n",
    "            print(temp_sm['address'])\n",
    "            temp_add=list(jieba.cut(temp_sm[u'address']))\n",
    "            \n",
    "            temp_add2=filter_address(temp_add) # get the candidated address\n",
    "\n",
    "            # get the first market data-slice\n",
    "\n",
    "            ## 标记等级 一级市场\n",
    "            for ele in temp_add2: #循环过滤\n",
    "                temp_fm.loc[temp_fm['address'].str.contains(ele)==True,'level']+=1\n",
    "\n",
    "            ## get the maxed \n",
    "            max_match_level=np.max(temp_fm['level'])\n",
    "\n",
    "\n",
    "            ## 标记等级 二级市场\n",
    "            temp_fm['level'].fillna(0,inplace=True)\n",
    "            temp_sm['level']=max_match_level\n",
    "\n",
    "\n",
    "            ### 记录位置\n",
    "\n",
    "\n",
    "            temp_fm.loc[temp_fm['level']>=1,'mkey_1']+=temp_fm['level'].astype(str)+\"|\"+temp_sm['mindex'].astype(str)+u\"-\"\n",
    "#             print temp_fm['mkey_1']\n",
    "\n",
    "\n",
    "            for ele in temp_fm.loc[temp_fm['level']==np.max(temp_fm['level']),'mindex']:\n",
    "                temp_sm.loc['mkey_1']+=temp_sm['level'].astype(str)+\"|\"+ele.astype(str)+u\"-\"    \n",
    "\n",
    "\n",
    "\n",
    "            ### 存储二级市场信息\n",
    "            if temp_sm['level']>=1 :\n",
    "                match_sm_data=match_sm_data.append(temp_sm,ignore_index=True)\n",
    "\n",
    "        ### rename the dataframe    \n",
    "#         temp_fm.rename(columns=dict(zip(cand_col_fm2,match_column)), inplace=True)\n",
    "#         result_sm_data.rename(columns=dict(zip(cand_col_sm2,match_column)), inplace=True)\n",
    "\n",
    "        ### save the result\n",
    "        temp_fm=temp_fm[temp_fm['level']>=1]\n",
    "        match_fm_data=match_fm_data.append(temp_fm,ignore_index=True)\n",
    "        \n",
    "        result_sm_data=[]\n",
    "         "
   ]
  },
  {
   "cell_type": "code",
   "execution_count": null,
   "metadata": {
    "collapsed": false
   },
   "outputs": [],
   "source": [
    "print(match_sm_data.shape)\n",
    "print(match_fm_data.shape)"
   ]
  },
  {
   "cell_type": "code",
   "execution_count": null,
   "metadata": {
    "collapsed": false
   },
   "outputs": [],
   "source": [
    "match_fm_data.to_excel(path+'match_fm.xlsx','sheet1')\n",
    "match_sm_data.to_excel(path+'match_sm.xlsx','sheet1')"
   ]
  },
  {
   "cell_type": "code",
   "execution_count": null,
   "metadata": {
    "collapsed": true
   },
   "outputs": [],
   "source": []
  }
 ],
 "metadata": {
  "kernelspec": {
   "display_name": "Python 3",
   "language": "python",
   "name": "python3"
  },
  "language_info": {
   "codemirror_mode": {
    "name": "ipython",
    "version": 3
   },
   "file_extension": ".py",
   "mimetype": "text/x-python",
   "name": "python",
   "nbconvert_exporter": "python",
   "pygments_lexer": "ipython3",
   "version": "3.4.3"
  }
 },
 "nbformat": 4,
 "nbformat_minor": 0
}
