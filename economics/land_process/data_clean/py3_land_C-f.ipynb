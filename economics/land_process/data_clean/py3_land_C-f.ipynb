{
 "cells": [
  {
   "cell_type": "markdown",
   "metadata": {},
   "source": [
    "# 中文数据处理\n",
    "\n",
    "本python框架目的在于利用python3 对中文数据进行相关处理工作，以此能够较为稳定的处理字符编码与转换。从而方便提取有用信息。方便进行数据分析。\n",
    "\n",
    "## 数据清理\n",
    "\n",
    "* 添加索引号，方便进行定位和信息搜索\n",
    "* 规整位置信息数据-GIS定位准备\n",
    "* 规整土地价格、面积数据 为计算准备\n",
    "* 规整容积率数据\n"
   ]
  },
  {
   "cell_type": "code",
   "execution_count": null,
   "metadata": {
    "collapsed": true
   },
   "outputs": [],
   "source": [
    "# encoding=utf-8\n",
    "import pandas as pd\n",
    "import numpy as np\n",
    "import sys \n",
    "import os\n",
    "import glob\n",
    "\n",
    "\n",
    "# import scipy as sp"
   ]
  },
  {
   "cell_type": "markdown",
   "metadata": {},
   "source": [
    "### 添加索引号\n",
    "\n",
    "\n",
    "\n",
    "* 重新进行reindex \n",
    "* 创建索引指标，目的在于进行匹配时，方便联系一级二级匹配的数据\n",
    "* 对一、二级市场数据进行贴标签\n",
    "\n",
    "\n",
    "\n",
    "* 一级市场：标记索引号\n",
    "* 二级市场：标记索引号\n",
    "\n",
    "二级市场： 工业 0 开头 01，02... 第一位标记土地类型\n",
    "\n",
    "一级市场： 第一二位标记土地类型，第二位标记供地方式\n",
    "\n",
    "土地类型：\n",
    "\n",
    "* 工业用地-00\n",
    "* 商业用地-01\n",
    "\n",
    "\n",
    "供地方式：\n",
    "\n",
    "* 拍卖出让-01\n",
    "* 招标出让-02\n",
    "* 挂牌出让-03\n",
    "\n",
    "\n"
   ]
  },
  {
   "cell_type": "code",
   "execution_count": null,
   "metadata": {
    "collapsed": true
   },
   "outputs": [],
   "source": [
    "## 二级市场索引\n",
    "\n",
    "# reset the index \n",
    "print(len(sm_industry))\n",
    "sm_industry=sm_industry.reset_index(drop=True) # OK \n",
    "#sm_industry.index=range(len(sm_industry)) # 可以reset\n",
    "print(sm_industry.index)\n",
    "\n",
    "# set the index column \n",
    "sm_industry['index']=\"00\"\n",
    "sm_industry['index']=sm_industry['index']+sm_industry.index.astype(str)\n",
    "\n",
    "# print(sm_industry['index'].shape)\n",
    "# sm_industry['index']"
   ]
  },
  {
   "cell_type": "code",
   "execution_count": null,
   "metadata": {
    "collapsed": true
   },
   "outputs": [],
   "source": [
    "## 一级市场\n",
    "# reset the index \n",
    "print(len(fm_industry))\n",
    "fm_industry=fm_industry.reset_index(drop=True )  \n",
    "# fm_industry.reindex(index=range(len(fm_industry)))# 无法reset \n",
    "# fm_industry.index=range(len(fm_industry)) # 可以reset\n",
    "print(fm_industry.index)\n",
    "\n",
    "\n",
    "# set the index column \n",
    "# 土地类型 工业土地为00\n",
    "fm_industry['index']=\"00\"\n",
    "# 供地方式\n",
    "temp=pd.DataFrame(index=fm_industry.index,columns=[0])\n",
    "temp[fm_industry['供地方式'].str.contains('拍卖出让')]=\"01\"\n",
    "temp[fm_industry['供地方式'].str.contains('招标出让')]=\"02\"\n",
    "temp[fm_industry['供地方式'].str.contains('挂牌出让')]=\"03\"\n",
    "\n",
    "fm_industry['index']=fm_industry['index']+temp[0]\n",
    "\n",
    "fm_industry['index']=fm_industry['index']+fm_industry.index.astype(str)\n",
    "print(fm_industry['index'].shape)"
   ]
  },
  {
   "cell_type": "markdown",
   "metadata": {
    "collapsed": false
   },
   "source": [
    "## 行政区划处理"
   ]
  },
  {
   "cell_type": "code",
   "execution_count": null,
   "metadata": {
    "collapsed": true
   },
   "outputs": [],
   "source": [
    "## 二级市场\n",
    "sm_industry[u'最后一级'].fillna(\"-\",inplace=True)\n",
    "sm_industry[u'县'].fillna(\"-\",inplace=True)\n",
    "sm_industry[u'市'].fillna(\"-\",inplace=True)\n",
    "# tt=data_sm[u'最后一级'].str.replace(\"-\",\"+\")\n",
    "\n",
    "# data_sm[u'市']\n",
    "sm_industry[u'最后一级']=sm_industry[u'最后一级'].str.replace(\"-\",data_sm[u'县'].values[0])\n",
    "sm_industry[u'最后一级']=sm_industry[u'最后一级'].str.replace(\"-\",data_sm[u'市'].values[0])\n",
    "sm_industry[u'最后一级']=sm_industry[u'最后一级'].str.replace(\"-\",data_sm[u'省'].values[0])\n",
    "sm_industry[u'县']=sm_industry[u'县'].str.replace(\"-\",'')\n",
    "sm_industry[u'市']=sm_industry[u'市'].str.replace(\"-\",'')"
   ]
  },
  {
   "cell_type": "code",
   "execution_count": null,
   "metadata": {
    "collapsed": true
   },
   "outputs": [],
   "source": [
    "## 一级市场"
   ]
  },
  {
   "cell_type": "markdown",
   "metadata": {},
   "source": [
    "### 将相关数字格式化显示\n",
    "\n",
    "主要有：\n",
    "\n",
    "* 成交价格\n",
    "* 面积\n",
    "* 容积率\n",
    "* 日期"
   ]
  },
  {
   "cell_type": "code",
   "execution_count": null,
   "metadata": {
    "collapsed": true
   },
   "outputs": [],
   "source": [
    "#######################\n",
    "# 二级市场\n",
    "#######################\n",
    "\n",
    "###################\n",
    "#面积 规整到平方米\n",
    "###################\n",
    "dd=sm_industry[sm_industry[u'面积'].str.contains(u\"亩\")][u'面积'].str.replace(u\"亩\",\"\").astype(float)*666.67\n",
    "dd=dd.append(sm_industry[sm_industry[u'面积'].str.contains(u\"平方米\")][u'面积'].str.replace(u\"平方米\",\"\").astype(float))\n",
    "dd=dd.append(sm_industry[sm_industry[u'面积'].str.contains(u\"公顷\")][u'面积'].str.replace(u\"公顷\",\"\").astype(float)*10000)\n",
    "print(dd.shape)\n",
    "sm_industry[u'面积']=dd\n",
    "\n",
    "\n",
    "#####################\n",
    "#价格\n",
    "#####################\n",
    "\n",
    "import re\n",
    "sm_industry=sm_industry[sm_industry[u'转让费'].str.contains(u\"万|亿元\")]\n",
    "dd=sm_industry[sm_industry[u'转让费'].str.contains(u\"万元\")][u'转让费'].str.replace(u\"万元\",'').str.extract(r'(\\d+)')\n",
    "dd=dd.append(sm_industry[sm_industry[u'转让费'].str.contains(u\"亿元\")][u'转让费'].str.extract(r'(\\d+)').astype(float)*10000)\n",
    "sm_industry[u'转让费']=dd\n",
    "\n",
    "\n",
    "####################\n",
    "#容积率\n",
    "####################\n",
    "\n",
    "sm_industry[u'容积率']=sm_industry[sm_industry[u'详细信息'].str.contains(u'容积率')][u'详细信息'].str.extract(r'容积率(\\d+\\.\\d+)')\n",
    "sm_industry[u'容积率'].fillna(-999,inplace=True)\n",
    "sm_industry[u'容积率'].astype(str)"
   ]
  },
  {
   "cell_type": "code",
   "execution_count": null,
   "metadata": {
    "collapsed": true
   },
   "outputs": [],
   "source": [
    "#######################\n",
    "# 一级级市场  工业用地\n",
    "#######################\n",
    "\n",
    "######################\n",
    "#面积：平方米\n",
    "######################\n",
    "fm_industry[u'面积(公顷)']=fm_industry[u'面积(公顷)'].astype(float)*10000\n",
    "\n",
    "\n",
    "#####################\n",
    "#价格：万元\n",
    "#####################\n",
    "fm_industry['成交价格(万元)']=fm_industry['成交价格(万元)'].astype(float)\n",
    "\n",
    "\n",
    "#####\n",
    "# 容积率\n",
    "#####\n",
    "fm_industry[u'约定容积率上限'].fillna(-999,inplace=True)\n",
    "fm_industry[u'约定容积率上限'].astype(float)\n",
    "\n",
    "#####\n",
    "# 土地使用年限\n",
    "#####\n",
    "fm_industry.loc[fm_industry['土地使用年限'].str.contains(\"工业\"),'土地使用年限']=50"
   ]
  },
  {
   "cell_type": "code",
   "execution_count": null,
   "metadata": {
    "collapsed": true
   },
   "outputs": [],
   "source": [
    "# 判断 错误数据方法 nan \n",
    "data_fm[data_fm[u'土地用途'].apply(np.isreal)]"
   ]
  },
  {
   "cell_type": "markdown",
   "metadata": {},
   "source": [
    "## 存储数据"
   ]
  },
  {
   "cell_type": "code",
   "execution_count": null,
   "metadata": {
    "collapsed": false
   },
   "outputs": [],
   "source": [
    "## save the data \n",
    "# data_fm.to_excel(path+'data_fm.xlsx','Sheet1')\n",
    "fm_industry.to_excel(path+'fm_industry.xlsx','Sheet1')\n",
    "sm_industry.to_excel(path+'sm_industry.xlsx','Sheet1')"
   ]
  }
 ],
 "metadata": {
  "kernelspec": {
   "display_name": "Python 3",
   "language": "python",
   "name": "python3"
  },
  "language_info": {
   "codemirror_mode": {
    "name": "ipython",
    "version": 3
   },
   "file_extension": ".py",
   "mimetype": "text/x-python",
   "name": "python",
   "nbconvert_exporter": "python",
   "pygments_lexer": "ipython3",
   "version": "3.4.3"
  }
 },
 "nbformat": 4,
 "nbformat_minor": 0
}
