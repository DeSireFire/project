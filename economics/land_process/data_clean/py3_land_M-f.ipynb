{
 "cells": [
  {
   "cell_type": "markdown",
   "metadata": {},
   "source": [
    "# 中文数据处理\n",
    "\n",
    "本python框架目的在于利用python3 对中文数据进行相关处理工作，以此能够较为稳定的处理字符编码与转换。从而方便提取有用信息。方便进行数据分析。\n",
    "\n",
    "本文档主要包是进行数据整合工作！\n",
    "\n",
    "数据 txt文件需要放在同一目录的url文件夹下面"
   ]
  },
  {
   "cell_type": "code",
   "execution_count": null,
   "metadata": {
    "collapsed": true
   },
   "outputs": [],
   "source": [
    "# encoding=utf-8\n",
    "import pandas as pd\n",
    "import numpy as np\n",
    "import sys \n",
    "import os\n",
    "import glob\n",
    "\n",
    "# import scipy as sp"
   ]
  },
  {
   "cell_type": "markdown",
   "metadata": {},
   "source": [
    "## 数据整合\n",
    "\n",
    "\n",
    "* 把多个数据文件合并成一个\n",
    "* 分类提取相关类型的土地数据：工业用地\n",
    "* 数据存储"
   ]
  },
  {
   "cell_type": "code",
   "execution_count": null,
   "metadata": {
    "collapsed": true
   },
   "outputs": [],
   "source": [
    "# load the file name txt format :\n",
    "path = \".\\\\info\\\\\"\n",
    "# file_list =os.listdir(path)\n",
    "file_list = glob.glob(path+'*.txt')\n",
    "file_list\n",
    "savefile=[]\n",
    "for element in file_list:\n",
    "    savefile.append(os.path.splitext(os.path.basename(element)))\n",
    "savefile\n"
   ]
  },
  {
   "cell_type": "code",
   "execution_count": null,
   "metadata": {
    "collapsed": true
   },
   "outputs": [],
   "source": [
    "## 测试\n",
    "\n",
    "data_fm=pd.read_table(path+'2014-10-4export.txt',sep='delimiter',header=None,encoding='utf-8')\n",
    "data_fm=data_fm[0].str.split('\\t').apply(pd.Series, 1)\n",
    "\n",
    "## 设置表头，重新排版\n",
    "data_fm.iloc[0]\n",
    "data_fm.columns=data_fm.iloc[0]\n",
    "data_fm=data_fm.reindex(data_fm.index.drop(0))\n",
    "data_fm=data_fm.drop(data_fm.columns[20:], axis=1)\n",
    "\n",
    "data_fm"
   ]
  },
  {
   "cell_type": "code",
   "execution_count": null,
   "metadata": {
    "collapsed": false
   },
   "outputs": [],
   "source": [
    "count=0\n",
    "for file_ele in file_list:\n",
    "    \n",
    "    print(file_ele)\n",
    "    temp_data_fm = pd.read_table(file_ele,sep='delimiter',header=None,encoding='utf-8')\n",
    "#     temp_data_fm = pd.read_table(file_ele,sep='delimiter',header=None,encoding='utf-8-sig')\n",
    "    temp_data_fm=temp_data_fm[0].str.split('\\t').apply(pd.Series, 1)\n",
    "    # delete the na column \n",
    "    print(temp_data_fm.shape)\n",
    "    \n",
    "    temp_data_fm=temp_data_fm.drop(temp_data_fm.columns[20:], axis=1)\n",
    "    \n",
    "    # make column name \n",
    "    temp_data_fm.iloc[0]\n",
    "    temp_data_fm.columns=temp_data_fm.iloc[0]\n",
    "    temp_data_fm=temp_data_fm.reindex(temp_data_fm.index.drop(0))\n",
    "    \n",
    "    ######\n",
    "    # merge data\n",
    "    ######\n",
    "    if count==0:\n",
    "        data_fm=temp_data_fm\n",
    "    else:\n",
    "        data_fm=data_fm.append(temp_data_fm,ignore_index=True)\n",
    "    \n",
    "    count+=1\n"
   ]
  },
  {
   "cell_type": "code",
   "execution_count": null,
   "metadata": {
    "collapsed": true
   },
   "outputs": [],
   "source": [
    "##-------------------\n",
    "## 删除重复数据\n",
    "##-------------------\n",
    "\n",
    "print(data_fm.shape)\n",
    "data_fm = data_fm.groupby(level=0).first()\n",
    "print(data_fm.shape)\n",
    "print(data_fm[~data_fm['电子监管号'].apply(np.isreal)].shape)"
   ]
  },
  {
   "cell_type": "markdown",
   "metadata": {
    "collapsed": false
   },
   "source": [
    "## 分类土地类型"
   ]
  },
  {
   "cell_type": "code",
   "execution_count": null,
   "metadata": {
    "collapsed": false
   },
   "outputs": [],
   "source": [
    "##-------------------\n",
    "## 得到工业土地数据 \n",
    "## 工业用地：拍卖、招标、挂牌\n",
    "## 仓储用地：拍卖、挂牌\n",
    "##-------------------\n",
    "\n",
    "## 判断仓储用地的供地方式类型\n",
    "data_fm[data_fm['土地用途'].str.contains('仓储用地')==True]['供地方式'].unique()\n",
    "## 判断土地用途类型\n",
    "data_fm['土地用途'].unique()    \n",
    "    \n",
    "g_data_fm=data_fm.groupby(['土地用途','供地方式'])\n",
    "\n",
    "# g_data_fm.get_group(('工业用地','拍卖出让'))\n",
    "fm_industry=pd.DataFrame(columns=data_fm.columns)\n",
    "supply_way=['拍卖出让', # not so many\n",
    "            '招标出让', # little\n",
    "            '挂牌出让'] # large\n",
    "\n",
    "for ele in supply_way:\n",
    "    fm_industry=fm_industry.append(g_data_fm.get_group((u'工业用地',ele)),ignore_index=True)\n",
    "\n",
    "fm_industry=fm_industry.append(g_data_fm.get_group((u'仓储用地','拍卖出让')),ignore_index=True)\n",
    "fm_industry=fm_industry.append(g_data_fm.get_group((u'仓储用地','挂牌出让')),ignore_index=True)"
   ]
  },
  {
   "cell_type": "markdown",
   "metadata": {},
   "source": [
    "## 存储数据"
   ]
  },
  {
   "cell_type": "code",
   "execution_count": null,
   "metadata": {
    "collapsed": false
   },
   "outputs": [],
   "source": [
    "## 存储一级市场数据 \n",
    "data_fm.to_excel(path+'data_fm.xlsx','Sheet1')\n",
    "fm_industry.columns\n",
    "fm_industry.to_excel(path+'data_fm.xlsx','Sheet1')"
   ]
  },
  {
   "cell_type": "code",
   "execution_count": null,
   "metadata": {
    "collapsed": false
   },
   "outputs": [],
   "source": [
    "fm_industry.columns"
   ]
  },
  {
   "cell_type": "code",
   "execution_count": null,
   "metadata": {
    "collapsed": false
   },
   "outputs": [],
   "source": [
    "data_fm['土地用途'].unique()"
   ]
  },
  {
   "cell_type": "code",
   "execution_count": null,
   "metadata": {
    "collapsed": false
   },
   "outputs": [],
   "source": [
    "data_fm[data_fm['土地用途'].str.contains('仓储用地')==True]['供地方式'].unique()"
   ]
  },
  {
   "cell_type": "code",
   "execution_count": null,
   "metadata": {
    "collapsed": true
   },
   "outputs": [],
   "source": []
  }
 ],
 "metadata": {
  "kernelspec": {
   "display_name": "Python 3",
   "language": "python",
   "name": "python3"
  },
  "language_info": {
   "codemirror_mode": {
    "name": "ipython",
    "version": 3
   },
   "file_extension": ".py",
   "mimetype": "text/x-python",
   "name": "python",
   "nbconvert_exporter": "python",
   "pygments_lexer": "ipython3",
   "version": "3.4.3"
  }
 },
 "nbformat": 4,
 "nbformat_minor": 0
}
