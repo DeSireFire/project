{
 "cells": [
  {
   "cell_type": "markdown",
   "metadata": {},
   "source": [
    "# 土地经纬度信息获取\n",
    "\n",
    "本程序目的在于方便进行大批量地理位置信息转换，从地址信息转换成经纬度。具体信息可参考LBS百度云。\n",
    "\n",
    "操作方式如下：\n",
    "\n",
    "1. 原始数据中提取所需要的地址信息，行政区信息（县、省等）\n",
    "2. 把相关地址信息和行政区信息导入到info_data中\n",
    "3. 运行程序，输出两个结果，第一个为地理位置信息的dataframe,第二个则为出错信息的list.\n",
    "\n",
    "错误与获取信息失败的处理：\n",
    "\n",
    "* 出错信息用\"-\"表示，返回无效地址为：\"\"\n",
    "* \"-\"可以进行再次尝试,fail_list2 中存储了\"-\"\n",
    "* \"\"可以进行再次尝试,fail_list 中存储了\"\"\n",
    "\n",
    "## 程序解释\n",
    "\n",
    "* 函数baidu_gis是进行信息查询的预先处理，遵循LBS百度云api接口相关规定，主要进行密钥加密 （中文编码是一个急需解决的大问题）\n",
    "* 源数据存储在hdf5格式中，通过pandas 的支持函数读写。 相关问题可以查看hdf5 文件说明\n",
    "* \n"
   ]
  },
  {
   "cell_type": "code",
   "execution_count": 2,
   "metadata": {
    "collapsed": false
   },
   "outputs": [],
   "source": [
    "import pandas as pd\n",
    "import numpy as np\n",
    "import sys \n",
    "# from pandas import Series,DataFrame\n",
    "import urllib\n",
    "import hashlib\n",
    "import requests\n",
    "import math\n",
    "import re\n",
    "import json\n",
    "import copy"
   ]
  },
  {
   "cell_type": "code",
   "execution_count": null,
   "metadata": {
    "collapsed": true
   },
   "outputs": [],
   "source": [
    "## 数据载入\n",
    "path = \"F:\\\\DATAbase\\\\land\\\\HDF\\\\\"\n",
    "fm_df = pd.read_excel(path+'fm_df.xlsx')\n",
    "sm_df = pd.read_excel(path+'sm_df.xlsx')"
   ]
  },
  {
   "cell_type": "markdown",
   "metadata": {},
   "source": [
    "## GIS函数"
   ]
  },
  {
   "cell_type": "code",
   "execution_count": 2,
   "metadata": {
    "collapsed": false
   },
   "outputs": [],
   "source": [
    "### 转换函数\n",
    "def baidu_gis(queryStr):\n",
    "    '''\n",
    "    queryStr 包括了请求百api的url 地址\n",
    "    以get请求为例http://api.map.baidu.com/geocoder/v2/?address=百度大厦&output=json&ak=yourak\n",
    "    并且对url 转码 除了保留字符不转换，其余要进行转码加密\n",
    "    \n",
    "    '''\n",
    "    \n",
    "    GIS_result=[]\n",
    "    api_link=[]\n",
    "    error_count=0\n",
    "    # 对queryStr进行转码，safe内的保留字符不转换\n",
    "    for ele in queryStr:\n",
    "        encodedStr=urllib.parse.quote(ele, safe=\"/:=&?#+!$,;'@()*[]\")\n",
    "        # 在最后直接追加上yoursk\n",
    "        rawStr = encodedStr + 'DTtxldoesco94o9YZT3RuGlKarBGr7Xv'\n",
    "\n",
    "        sn = hashlib.md5(urllib.parse.quote_plus(rawStr).encode('utf-8')).hexdigest()\n",
    "\n",
    "        api_link.append('http://api.map.baidu.com'+ele+\"&sn=\"+sn)\n",
    "        \n",
    "        \n",
    "    return api_link\n",
    "\n",
    "\n",
    "# In[ ]:\n",
    "\n",
    "dict_convert={\n",
    "    'preffix':'/geocoder/v2/?',\n",
    "    'suffix':'&output=json&ak=9gTAEoFWvBoKHl3u3dFp5ff7',\n",
    "    'title': u'title=',\n",
    "    'address': u'&address=',\n",
    "    'province': u'&province=',\n",
    "    'city': u'&city=',\n",
    "    'district': u'&disctrict='    \n",
    "}\n",
    "key_id_list=['title','address','province','city','district']\n",
    "\n",
    "\n",
    "def convert(data):\n",
    "    '''\n",
    "    data is a dataframe format saving the \n",
    "    info of geo info\n",
    "    \n",
    "    '''\n",
    "    \n",
    "    row,col=data.shape\n",
    "    query_info=''\n",
    "    for ele in data.columns:\n",
    "        query_info+=dict_convert[ele] + data[ele]\n",
    "\n",
    "    query_info=dict_convert['preffix']+query_info+dict_convert['suffix']\n",
    "    query_info.fillna(\"\",inplace=True)\n",
    "    \n",
    "    return query_info\n"
   ]
  },
  {
   "cell_type": "code",
   "execution_count": null,
   "metadata": {
    "collapsed": true
   },
   "outputs": [],
   "source": [
    "## 地址转换\n",
    "col_name_sm=[u'省',u'市',u'县',u'地址']\n",
    "col_name_fm=[u'行政区',u'项目位置']\n",
    "gis_name_sm=['province','city','district','address']\n",
    "gis_name_fm=['district','address']\n",
    "\n",
    "flag=input('whether sm or fm')\n",
    "if flag=='sm':\n",
    "    data_geo=sm_df[col_name_sm]\n",
    "    data_geo.rename(columns=dict(zip(col_name_sm,gis_name_sm)),inplace=True)\n",
    "else:\n",
    "    data_geo=fm_df[col_name_fm]\n",
    "    data_geo.rename(columns=dict(zip(col_name_fm,gis_name_fm)),inplace=True)\n",
    "\n",
    "# data_geo.rename(columns=dict(zip(col_name,gis_name)),inplace=True)\n"
   ]
  },
  {
   "cell_type": "code",
   "execution_count": 6,
   "metadata": {
    "collapsed": false
   },
   "outputs": [],
   "source": [
    "query_info=convert(data_geo)\n",
    "geo_link=baidu_gis(query_info)"
   ]
  },
  {
   "cell_type": "code",
   "execution_count": null,
   "metadata": {
    "collapsed": false
   },
   "outputs": [],
   "source": [
    "import queue\n",
    "import threading\n",
    "import time\n",
    "import copy, sys \n",
    "\n",
    "exitFlag = 0\n",
    "tn=20\n",
    "print('we are dealing with: %s' %flag)\n",
    "\n",
    "headers = {'user-agent': 'Mozilla/5.0 (Windows NT 6.3; WOW64) AppleWebKit/537.36 (KHTML, like Gecko) Chrome/40.0.2214.93 Safari/537.36'}\n",
    "req=[]\n",
    "GIS_result=[]\n",
    "fail_link=[]\n",
    "class myThread (threading.Thread):\n",
    "    def __init__(self, threadID, name, q):\n",
    "        threading.Thread.__init__(self)\n",
    "        self.threadID = threadID\n",
    "        self.name = name\n",
    "        self.q = q\n",
    "        self.header={'user-agent': 'Mozilla/5.0 (Windows NT 10.0; WOW64) AppleWebKit/537.36 (KHTML, like Gecko) Chrome/45.0.2454.85 Safari/537.36'}\n",
    "    def run(self):\n",
    "        print(\"Starting \" + self.name)\n",
    "        process_data(self.name, self.q,self.header)\n",
    "\n",
    "def process_data(threadName, q, header):\n",
    "    while not exitFlag:\n",
    "        queueLock.acquire()\n",
    "        if not workQueue.empty():\n",
    "            data = q.get()\n",
    "            try: \n",
    "                req = requests.get(data)\n",
    "#                 print(req.json())\n",
    "                if req.json()[u'status']==211:\n",
    "                    print(\"error occur\")\n",
    "                    time.sleep(1)\n",
    "                    req = requests.get(data)\n",
    "                    print(req.json())\n",
    "                if req.json()[u'status']==211:\n",
    "                    time.sleep(1)\n",
    "                    req = requests.get(data)\n",
    "                    print(req.json())\n",
    "                try:\n",
    "                    content = req.json()\n",
    "                    result = content['result']\n",
    "                    location = result['location']\n",
    "                    x = location['lat']\n",
    "                    y = location['lng']\n",
    "                    temp_result=(x,y,result['confidence'])\n",
    "                    GIS_result.append(copy.deepcopy(temp_result))\n",
    "                except: \n",
    "                    temp_result=(\"\",\"\",\"\")\n",
    "                    GIS_result.append(copy.deepcopy(temp_result))\n",
    "            except :\n",
    "                fail_link.append(data)\n",
    "                temp_result=(\"-\",\"-\",\"-\")\n",
    "                GIS_result.append(copy.deepcopy(temp_result))\n",
    "            \n",
    "            queueLock.release()\n",
    "            print(\"%s processing:  %s\" % (threadName, temp_result))\n",
    "        else:\n",
    "            queueLock.release()\n",
    "        time.sleep(1)\n",
    "\n",
    "threadList = [\"T1\", \"T2\", \"T3\",\"T4\"]\n",
    "queueLock = threading.Lock()\n",
    "fm_url=[]\n",
    "\n",
    "\n",
    "\n",
    "workQueue = queue.Queue(tn)\n",
    "threads = []\n",
    "threadID = 1\n",
    "\n",
    "# 创建新线程\n",
    "for tName in threadList:\n",
    "    print(\"create thread\")\n",
    "    thread = myThread(threadID, tName, workQueue)\n",
    "    thread.start()\n",
    "    threads.append(thread)\n",
    "    threadID += 1\n",
    "\n",
    "# 填充队列\n",
    "queueLock.acquire()\n",
    "for word in geo_link[:tn]:\n",
    "    workQueue.put(word)\n",
    "queueLock.release()\n",
    "\n",
    "# 等待队列清空\n",
    "while not workQueue.empty():\n",
    "    pass\n",
    "\n",
    "# 通知线程是时候退出\n",
    "exitFlag = 1\n",
    "\n",
    "# 等待所有线程完成\n",
    "for t in threads:\n",
    "    t.join()\n",
    "print(\"Exiting Main Thread\")\n",
    "\n",
    "GIS_df=pd.DataFrame(GIS_result,columns=['lat','lng','confidence'])\n",
    "print(GIS_df)\n",
    "\n",
    "print(\"the num of empty GIS is : \")\n",
    "print(len(GIS_df[GIS_df['lat']==\"\"]))\n",
    "\n",
    "GIS_ind=pd.concat([data_geo,GIS_df],axis=1)\n",
    "\n",
    "\n",
    "\n",
    "if flag=='sm':\n",
    "    ## save the result in the total info data\n",
    "    cand_col_sm=['mindex',u'县',u'地址',u'剩余年限',u'面积',u'转让费',u'容积率']\n",
    "    sm_GIS=pd.concat([sm_df[cand_col_sm],GIS_df],axis=1)\n",
    "\n",
    "else:\n",
    "    ## save the result in the  data\n",
    "    cand_col_fm=['mindex',u'行政区',u'项目位置',u'土地使用年限',u'面积(公顷)',u'成交价格(万元)',u'约定容积率上限']\n",
    "    sm_GIS=pd.concat([fm_df[cand_col_fm],GIS_df],axis=1)"
   ]
  },
  {
   "cell_type": "code",
   "execution_count": null,
   "metadata": {
    "collapsed": true
   },
   "outputs": [],
   "source": [
    "GIS_ind=pd.concat([data_geo,GIS_df],axis=1)\n",
    "GIS_ind"
   ]
  },
  {
   "cell_type": "markdown",
   "metadata": {},
   "source": [
    "## 保存数据"
   ]
  },
  {
   "cell_type": "code",
   "execution_count": null,
   "metadata": {
    "collapsed": false
   },
   "outputs": [],
   "source": [
    "# ##------------------\n",
    "# ##  save the data \n",
    "# ##------------------\n",
    "# path = \"F:\\\\DATAbase\\\\land\\\\HDF\\\\\"\n",
    "# with pd.HDFStore(path+'LandDATA.h5',  mode='w') as store:\n",
    "#     print store.keys\n",
    "#     store.put('sm_GIS',  sm_GIS,  format='f',append=False)\n",
    "#     store.put('fm_GIS', fm_GIS, format='f',append=False)\n",
    "GIS_ind.to_excel(path+'GIS_fm.xlsx','fm')\n",
    "GIS_ind.to_excel(path+'GIS_fm.xlsx','fm')"
   ]
  }
 ],
 "metadata": {
  "kernelspec": {
   "display_name": "Python 3",
   "language": "python",
   "name": "python3"
  },
  "language_info": {
   "codemirror_mode": {
    "name": "ipython",
    "version": 3
   },
   "file_extension": ".py",
   "mimetype": "text/x-python",
   "name": "python",
   "nbconvert_exporter": "python",
   "pygments_lexer": "ipython3",
   "version": "3.4.3"
  }
 },
 "nbformat": 4,
 "nbformat_minor": 0
}
