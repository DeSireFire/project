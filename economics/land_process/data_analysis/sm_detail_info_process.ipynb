{
 "cells": [
  {
   "cell_type": "markdown",
   "metadata": {},
   "source": [
    "#二级市场 数据整理\n",
    "\n",
    "* 工业地使用年限规整  小于50年\n",
    "* 详细信息中相关数据提取：交通、水电、基础设施等\n",
    "* 无关数据剔除\n"
   ]
  },
  {
   "cell_type": "markdown",
   "metadata": {},
   "source": [
    "##数据导入\n"
   ]
  },
  {
   "cell_type": "code",
   "execution_count": 1,
   "metadata": {
    "collapsed": false
   },
   "outputs": [],
   "source": [
    "import pandas as pd\n",
    "import numpy as np\n",
    "data_sm = pd.read_excel(\"F:\\\\DATAbase\\\\land\\\\industry.xlsx\")"
   ]
  },
  {
   "cell_type": "markdown",
   "metadata": {},
   "source": [
    "##清理使用年限问题"
   ]
  },
  {
   "cell_type": "code",
   "execution_count": 2,
   "metadata": {
    "collapsed": false
   },
   "outputs": [
    {
     "data": {
      "text/html": [
       "<div style=\"max-height:1000px;max-width:1500px;overflow:auto;\">\n",
       "<table border=\"1\" class=\"dataframe\">\n",
       "  <thead>\n",
       "    <tr style=\"text-align: right;\">\n",
       "      <th></th>\n",
       "      <th>ID</th>\n",
       "      <th>标题</th>\n",
       "      <th>用途</th>\n",
       "      <th>更新时间</th>\n",
       "      <th>面积</th>\n",
       "      <th>剩余年限</th>\n",
       "      <th>可流转年限</th>\n",
       "      <th>转让费</th>\n",
       "      <th>地区</th>\n",
       "      <th>省</th>\n",
       "      <th>市</th>\n",
       "      <th>县</th>\n",
       "      <th>最后一级</th>\n",
       "      <th>流转方式</th>\n",
       "      <th>土地权证</th>\n",
       "      <th>地址</th>\n",
       "      <th>URL</th>\n",
       "      <th>详细信息</th>\n",
       "    </tr>\n",
       "  </thead>\n",
       "  <tbody>\n",
       "    <tr>\n",
       "      <th>1645</th>\n",
       "      <td>84030</td>\n",
       "      <td>广东惠州工业地土地转让</td>\n",
       "      <td>工业地&gt;国有工业用地</td>\n",
       "      <td>2013-07-01</td>\n",
       "      <td>10000平方米</td>\n",
       "      <td>70年</td>\n",
       "      <td>70年</td>\n",
       "      <td>350万元</td>\n",
       "      <td>广东-惠州</td>\n",
       "      <td>广东</td>\n",
       "      <td>惠州</td>\n",
       "      <td>NaN</td>\n",
       "      <td>NaN</td>\n",
       "      <td>转让</td>\n",
       "      <td>其它（林权证、草场证等）</td>\n",
       "      <td>惠州市博罗县湖镇镇国土资源所旁</td>\n",
       "      <td>http://huizhou.tdzyw.com/supply/view-84030</td>\n",
       "      <td>基本建设:三通一平金塘工业园位于湖镇的埔新村，交通区位优越，在广梅公路、响博公路（现正在改造...</td>\n",
       "    </tr>\n",
       "    <tr>\n",
       "      <th>1646</th>\n",
       "      <td>84367</td>\n",
       "      <td>广东惠州工业地土地转让</td>\n",
       "      <td>工业地&gt;国有工业用地</td>\n",
       "      <td>2013-07-03</td>\n",
       "      <td>10000平方米</td>\n",
       "      <td>70年</td>\n",
       "      <td>70年</td>\n",
       "      <td>350万元</td>\n",
       "      <td>广东-惠州</td>\n",
       "      <td>广东</td>\n",
       "      <td>惠州</td>\n",
       "      <td>NaN</td>\n",
       "      <td>NaN</td>\n",
       "      <td>转让</td>\n",
       "      <td>其它（林权证、草场证等）</td>\n",
       "      <td>惠州市博罗县湖镇镇国土资源所旁</td>\n",
       "      <td>http://huizhou.tdzyw.com/supply/view-84367</td>\n",
       "      <td>基本建设:三通一平优势:政策扶持惠州（农用地、商住地、工业地）博罗大量的工业用地，商业用地，...</td>\n",
       "    </tr>\n",
       "    <tr>\n",
       "      <th>1647</th>\n",
       "      <td>85756</td>\n",
       "      <td>广东惠州工业地土地转让</td>\n",
       "      <td>工业地&gt;国有工业用地</td>\n",
       "      <td>2013-07-15</td>\n",
       "      <td>10000平方米</td>\n",
       "      <td>70年</td>\n",
       "      <td>70年</td>\n",
       "      <td>350万元</td>\n",
       "      <td>广东-惠州</td>\n",
       "      <td>广东</td>\n",
       "      <td>惠州</td>\n",
       "      <td>NaN</td>\n",
       "      <td>NaN</td>\n",
       "      <td>转让</td>\n",
       "      <td>其它（林权证、草场证等）</td>\n",
       "      <td>惠州市博罗县湖镇镇国土资源所旁</td>\n",
       "      <td>http://huizhou.tdzyw.com/supply/view-85756</td>\n",
       "      <td>基本建设:三通一平配套设施:水泥路优势:政策扶持交通:汽车周边:工厂交通环境：交通便利发达，...</td>\n",
       "    </tr>\n",
       "    <tr>\n",
       "      <th>1648</th>\n",
       "      <td>86188</td>\n",
       "      <td>广东惠州工业地土地转让</td>\n",
       "      <td>工业地&gt;国有工业用地</td>\n",
       "      <td>2013-07-18</td>\n",
       "      <td>10000平方米</td>\n",
       "      <td>70年</td>\n",
       "      <td>70年</td>\n",
       "      <td>350万元</td>\n",
       "      <td>广东-惠州</td>\n",
       "      <td>广东</td>\n",
       "      <td>惠州</td>\n",
       "      <td>NaN</td>\n",
       "      <td>NaN</td>\n",
       "      <td>转让</td>\n",
       "      <td>其它（林权证、草场证等）</td>\n",
       "      <td>惠州市博罗县湖镇镇国土资源所旁</td>\n",
       "      <td>http://huizhou.tdzyw.com/supply/view-86188</td>\n",
       "      <td>大量工业用地，商业用地，山林地，一手土地出让，手续完善，享三通一平，工业用地使用年限50年，...</td>\n",
       "    </tr>\n",
       "    <tr>\n",
       "      <th>1649</th>\n",
       "      <td>86201</td>\n",
       "      <td>广东惠州工业地土地转让</td>\n",
       "      <td>工业地&gt;国有工业用地</td>\n",
       "      <td>2013-07-18</td>\n",
       "      <td>10000平方米</td>\n",
       "      <td>70年</td>\n",
       "      <td>70年</td>\n",
       "      <td>350万元</td>\n",
       "      <td>广东-惠州</td>\n",
       "      <td>广东</td>\n",
       "      <td>惠州</td>\n",
       "      <td>NaN</td>\n",
       "      <td>NaN</td>\n",
       "      <td>转让</td>\n",
       "      <td>其它（林权证、草场证等）</td>\n",
       "      <td>惠州市博罗县湖镇镇国土资源所旁</td>\n",
       "      <td>http://huizhou.tdzyw.com/supply/view-86201</td>\n",
       "      <td>大量工业用地，商业用地，山林地，一土地出让，手续完善，享三通一平，工业用地使用年限50年，商...</td>\n",
       "    </tr>\n",
       "  </tbody>\n",
       "</table>\n",
       "</div>"
      ],
      "text/plain": [
       "         ID           标题          用途        更新时间        面积 剩余年限 可流转年限    转让费  \\\n",
       "1645  84030  广东惠州工业地土地转让  工业地>国有工业用地  2013-07-01  10000平方米  70年   70年  350万元   \n",
       "1646  84367  广东惠州工业地土地转让  工业地>国有工业用地  2013-07-03  10000平方米  70年   70年  350万元   \n",
       "1647  85756  广东惠州工业地土地转让  工业地>国有工业用地  2013-07-15  10000平方米  70年   70年  350万元   \n",
       "1648  86188  广东惠州工业地土地转让  工业地>国有工业用地  2013-07-18  10000平方米  70年   70年  350万元   \n",
       "1649  86201  广东惠州工业地土地转让  工业地>国有工业用地  2013-07-18  10000平方米  70年   70年  350万元   \n",
       "\n",
       "         地区   省   市    县 最后一级 流转方式          土地权证               地址  \\\n",
       "1645  广东-惠州  广东  惠州  NaN  NaN   转让  其它（林权证、草场证等）  惠州市博罗县湖镇镇国土资源所旁   \n",
       "1646  广东-惠州  广东  惠州  NaN  NaN   转让  其它（林权证、草场证等）  惠州市博罗县湖镇镇国土资源所旁   \n",
       "1647  广东-惠州  广东  惠州  NaN  NaN   转让  其它（林权证、草场证等）  惠州市博罗县湖镇镇国土资源所旁   \n",
       "1648  广东-惠州  广东  惠州  NaN  NaN   转让  其它（林权证、草场证等）  惠州市博罗县湖镇镇国土资源所旁   \n",
       "1649  广东-惠州  广东  惠州  NaN  NaN   转让  其它（林权证、草场证等）  惠州市博罗县湖镇镇国土资源所旁   \n",
       "\n",
       "                                             URL  \\\n",
       "1645  http://huizhou.tdzyw.com/supply/view-84030   \n",
       "1646  http://huizhou.tdzyw.com/supply/view-84367   \n",
       "1647  http://huizhou.tdzyw.com/supply/view-85756   \n",
       "1648  http://huizhou.tdzyw.com/supply/view-86188   \n",
       "1649  http://huizhou.tdzyw.com/supply/view-86201   \n",
       "\n",
       "                                                   详细信息  \n",
       "1645  基本建设:三通一平金塘工业园位于湖镇的埔新村，交通区位优越，在广梅公路、响博公路（现正在改造...  \n",
       "1646  基本建设:三通一平优势:政策扶持惠州（农用地、商住地、工业地）博罗大量的工业用地，商业用地，...  \n",
       "1647  基本建设:三通一平配套设施:水泥路优势:政策扶持交通:汽车周边:工厂交通环境：交通便利发达，...  \n",
       "1648  大量工业用地，商业用地，山林地，一手土地出让，手续完善，享三通一平，工业用地使用年限50年，...  \n",
       "1649  大量工业用地，商业用地，山林地，一土地出让，手续完善，享三通一平，工业用地使用年限50年，商...  "
      ]
     },
     "execution_count": 2,
     "metadata": {},
     "output_type": "execute_result"
    }
   ],
   "source": [
    "data_sm[data_sm['用途'].str.contains(\"工业地\")==True].tail()"
   ]
  },
  {
   "cell_type": "code",
   "execution_count": 20,
   "metadata": {
    "collapsed": false
   },
   "outputs": [],
   "source": [
    "data_sm_industry=data_sm[data_sm['用途'].str.contains(\"工业地\")==True]\n",
    "temp=data_sm_industry['剩余年限'].str.extract('(\\d+)年')"
   ]
  },
  {
   "cell_type": "code",
   "execution_count": 26,
   "metadata": {
    "collapsed": false
   },
   "outputs": [
    {
     "name": "stderr",
     "output_type": "stream",
     "text": [
      "E:\\system\\anaconda\\lib\\site-packages\\IPython\\kernel\\__main__.py:1: SettingWithCopyWarning: \n",
      "A value is trying to be set on a copy of a slice from a DataFrame.\n",
      "Try using .loc[row_indexer,col_indexer] = value instead\n",
      "\n",
      "See the the caveats in the documentation: http://pandas.pydata.org/pandas-docs/stable/indexing.html#indexing-view-versus-copy\n",
      "  if __name__ == '__main__':\n"
     ]
    }
   ],
   "source": [
    "data_sm_industry['剩余年限']=temp\n",
    "if '可流转年限' in data_sm_industry.columns.values:\n",
    "    del data_sm_industry['可流转年限']\n",
    "#data_sm_industry.head(5)\n",
    "#data_sm_industry.columns.values"
   ]
  },
  {
   "cell_type": "code",
   "execution_count": 30,
   "metadata": {
    "collapsed": false
   },
   "outputs": [
    {
     "name": "stderr",
     "output_type": "stream",
     "text": [
      "E:\\system\\anaconda\\lib\\site-packages\\IPython\\kernel\\__main__.py:1: SettingWithCopyWarning: \n",
      "A value is trying to be set on a copy of a slice from a DataFrame.\n",
      "Try using .loc[row_indexer,col_indexer] = value instead\n",
      "\n",
      "See the the caveats in the documentation: http://pandas.pydata.org/pandas-docs/stable/indexing.html#indexing-view-versus-copy\n",
      "  if __name__ == '__main__':\n"
     ]
    },
    {
     "data": {
      "text/html": [
       "<div style=\"max-height:1000px;max-width:1500px;overflow:auto;\">\n",
       "<table border=\"1\" class=\"dataframe\">\n",
       "  <thead>\n",
       "    <tr style=\"text-align: right;\">\n",
       "      <th></th>\n",
       "      <th>ID</th>\n",
       "      <th>标题</th>\n",
       "      <th>用途</th>\n",
       "      <th>更新时间</th>\n",
       "      <th>面积</th>\n",
       "      <th>剩余年限</th>\n",
       "    </tr>\n",
       "  </thead>\n",
       "  <tbody>\n",
       "    <tr>\n",
       "      <th>0</th>\n",
       "      <td>159703</td>\n",
       "      <td>广东清远连州市连州镇工业地土地转让</td>\n",
       "      <td>工业地&gt;厂房</td>\n",
       "      <td>2015-03-27</td>\n",
       "      <td>21亩</td>\n",
       "      <td>35</td>\n",
       "    </tr>\n",
       "    <tr>\n",
       "      <th>1</th>\n",
       "      <td>159155</td>\n",
       "      <td>山东潍坊寿光市工业地土地转让</td>\n",
       "      <td>工业地&gt;国有工业用地</td>\n",
       "      <td>2015-03-12</td>\n",
       "      <td>47亩</td>\n",
       "      <td>49</td>\n",
       "    </tr>\n",
       "    <tr>\n",
       "      <th>2</th>\n",
       "      <td>161165</td>\n",
       "      <td>广东广州番禺区大岗镇大岗村工业地土地转让</td>\n",
       "      <td>工业地&gt;集体工业用地</td>\n",
       "      <td>2015-03-28</td>\n",
       "      <td>39亩</td>\n",
       "      <td>20</td>\n",
       "    </tr>\n",
       "    <tr>\n",
       "      <th>3</th>\n",
       "      <td>161166</td>\n",
       "      <td>广东广州南沙区黄阁镇东湾村工业地土地转让</td>\n",
       "      <td>工业地&gt;国有工业用地</td>\n",
       "      <td>2015-03-30</td>\n",
       "      <td>38亩</td>\n",
       "      <td>33</td>\n",
       "    </tr>\n",
       "    <tr>\n",
       "      <th>4</th>\n",
       "      <td>161536</td>\n",
       "      <td>河北廊坊固安县工业地土地转让</td>\n",
       "      <td>工业地&gt;仓库·仓储用地·集体工业用地</td>\n",
       "      <td>2015-03-30</td>\n",
       "      <td>4500平方米</td>\n",
       "      <td>43</td>\n",
       "    </tr>\n",
       "  </tbody>\n",
       "</table>\n",
       "</div>"
      ],
      "text/plain": [
       "       ID                    标题                  用途        更新时间       面积  剩余年限\n",
       "0  159703     广东清远连州市连州镇工业地土地转让              工业地>厂房  2015-03-27      21亩    35\n",
       "1  159155        山东潍坊寿光市工业地土地转让          工业地>国有工业用地  2015-03-12      47亩    49\n",
       "2  161165  广东广州番禺区大岗镇大岗村工业地土地转让          工业地>集体工业用地  2015-03-28      39亩    20\n",
       "3  161166  广东广州南沙区黄阁镇东湾村工业地土地转让          工业地>国有工业用地  2015-03-30      38亩    33\n",
       "4  161536        河北廊坊固安县工业地土地转让  工业地>仓库·仓储用地·集体工业用地  2015-03-30  4500平方米    43"
      ]
     },
     "execution_count": 30,
     "metadata": {},
     "output_type": "execute_result"
    }
   ],
   "source": [
    "data_sm_industry['剩余年限']=data_sm_industry['剩余年限'].convert_objects(convert_numeric=True)\n",
    "#data_sm_industry['剩余年限']=data_sm_industry['剩余年限'].astype(int)\n",
    "data_sm_industry.dropna()\n",
    "#data_sm_industry[data_sm_industry['剩余年限']>50].head(5)\n",
    "data_sm_modify=data_sm_industry[data_sm_industry['剩余年限']<70]\n",
    "data_sm_modify.ix[:,0:6].head(5)\n",
    "#data_sm_industry[data_sm_industry['剩余年限']>50]=50"
   ]
  },
  {
   "cell_type": "markdown",
   "metadata": {},
   "source": [
    "保存信息，留作后续处理"
   ]
  },
  {
   "cell_type": "code",
   "execution_count": 48,
   "metadata": {
    "collapsed": true
   },
   "outputs": [],
   "source": [
    "writer = pd.ExcelWriter('F:\\\\DATAbase\\\\land\\\\industry_modify.xlsx')\n",
    "data_sm_modify.to_excel(writer,'Sheet1')\n",
    "writer.save()\n",
    "            \n",
    "                "
   ]
  },
  {
   "cell_type": "code",
   "execution_count": 31,
   "metadata": {
    "collapsed": false
   },
   "outputs": [
    {
     "name": "stdout",
     "output_type": "stream",
     "text": [
      "[0, 0, 0, 0, 0]\n",
      "[[ 0.]\n",
      " [ 0.]\n",
      " [ 0.]\n",
      " [ 0.]\n",
      " [ 0.]]\n"
     ]
    }
   ],
   "source": [
    "#生成初始数组方式\n",
    "alist=[0]*5\n",
    "print(alist)\n",
    "ini_data=np.zeros(shape=(5,1))\n",
    "print(ini_data)"
   ]
  },
  {
   "cell_type": "markdown",
   "metadata": {},
   "source": [
    "## 各个详细信息的筛选\n",
    "* 交通情况：机场、铁路、公路、公交\n",
    "* 容积率\n",
    "* 基础设施： 厂房、食堂、宿舍、学校 \n",
    "* 地理位置：临近市区\n",
    "* 地块：三通一平、五通一平、七通一平 场地平整"
   ]
  },
  {
   "cell_type": "markdown",
   "metadata": {},
   "source": [
    "## 地块：三通一平、五通一平、七通一平 场地平整\n"
   ]
  },
  {
   "cell_type": "code",
   "execution_count": 4,
   "metadata": {
    "collapsed": true
   },
   "outputs": [],
   "source": [
    "import pandas as pd\n",
    "import numpy as np\n",
    "data_sm_modify = pd.read_excel(\"F:\\\\DATAbase\\\\land\\\\industry_modify.xlsx\")"
   ]
  },
  {
   "cell_type": "code",
   "execution_count": 5,
   "metadata": {
    "collapsed": false
   },
   "outputs": [
    {
     "name": "stdout",
     "output_type": "stream",
     "text": [
      "(1237, 9)\n"
     ]
    }
   ],
   "source": [
    "# 生成新dataframe 储存 地块信息\n",
    "\n",
    "land_index=['给水','排水','通电','通路','通讯','通暖气','通天燃气或煤气','通邮','场地平整']\n",
    "len(data_sm_modify.index)\n",
    "zero_data = np.zeros(shape=(len(data_sm_modify.index),len(land_index)))\n",
    "\n",
    "print(zero_data.shape)\n",
    "\n",
    "df_land = pd.DataFrame(zero_data, columns=land_index,index=data_sm_modify.index)\n",
    "df_land['ID']=data_sm_modify['ID']"
   ]
  },
  {
   "cell_type": "code",
   "execution_count": 6,
   "metadata": {
    "collapsed": false
   },
   "outputs": [],
   "source": [
    "# 地块信息 :\n",
    "land_index=['给水','排水','通电','通路','通讯','通暖气','通天燃气或煤气','通邮','场地平整']\n",
    "##\n",
    "land_abv={'三通一平':[1,1,1,1,0,0,0,0,1], '四通一平':[1,1,1,1,1,0,0,0,1],'五通一平':[1,1,1,1,1,0,1,0,1],'七通一平':[1,1,1,1,1,1,1,1,1]}\n",
    "\n",
    "# 三通一平： 水、电、路、场地平整\n",
    "#四通一平：水、电、路、通讯、场地平整\n",
    "#五通一平：水、电、路、通讯、气、场地平整\n",
    "#七通一平：水、电、路、通讯、暖气、天然气或煤气、通邮、场地平整\n",
    "def land_info(candidate_land):\n",
    "    land_array=[0]*9\n",
    "    land_array2=[0]*9\n",
    "    for i in range(len(land_array)):\n",
    "        if land_index[i] in candidate_land:\n",
    "            land_array[i]=1\n",
    "    ##进行三通一平等的处理\n",
    "    for key in land_abv:\n",
    "        if key in candidate_land:\n",
    "            land_array2=land_abv[key]\n",
    "    \n",
    "    for i in range(len(land_array)):\n",
    "        if land_array2[i]==1:\n",
    "            land_array[i]=1\n",
    "    \n",
    "    \n",
    "    return land_array\n",
    "\n",
    "\n",
    "            \n",
    "    "
   ]
  },
  {
   "cell_type": "code",
   "execution_count": 7,
   "metadata": {
    "collapsed": false
   },
   "outputs": [
    {
     "data": {
      "text/plain": [
       "0    地上物/设施:通路,场地平整周边配套:高速位于清远（农用地、商住地、工业地）连州镇三虎滩，距...\n",
       "1    地上物/设施:给水,排水,通路,场地平整周边配套:高速,公路本宗地位于肥城市老城街道办事处北...\n",
       "2    地上物/设施:给水,排水,通电,通路,通讯,通暖气,通天燃气或煤气,场地平整,房屋周边配套:...\n",
       "3    地上物/设施:给水,排水,通电,通路,通讯,通暖气,通天燃气或煤气,场地平整,房屋周边配套:...\n",
       "4    地上物/设施:给水,排水,通电,通路,通讯,场地平整,房屋周边配套:机场,高速,公路,超市,...\n",
       "Name: 详细信息, dtype: object"
      ]
     },
     "execution_count": 7,
     "metadata": {},
     "output_type": "execute_result"
    }
   ],
   "source": [
    "data_sm_modify['详细信息'].head(5)\n",
    "# print(data_sm_modify.shape)"
   ]
  },
  {
   "cell_type": "code",
   "execution_count": 8,
   "metadata": {
    "collapsed": false
   },
   "outputs": [],
   "source": [
    "temp=data_sm_modify['详细信息'].apply(land_info)"
   ]
  },
  {
   "cell_type": "code",
   "execution_count": 9,
   "metadata": {
    "collapsed": false
   },
   "outputs": [],
   "source": [
    "for i in df_land.index:\n",
    "    df_land.ix[i,0:9]=temp[i]"
   ]
  },
  {
   "cell_type": "markdown",
   "metadata": {},
   "source": [
    "## 交通，基础设施, 资源 + 其他\n",
    "机场、铁路、公路、公交\n",
    "厂房、食堂、宿舍、学校、超市、商场、市区\n",
    "煤炭、矿产 "
   ]
  },
  {
   "cell_type": "code",
   "execution_count": 10,
   "metadata": {
    "collapsed": false
   },
   "outputs": [
    {
     "name": "stdout",
     "output_type": "stream",
     "text": [
      "(1237, 6)\n",
      "(1237, 9)\n",
      "(1237, 2)\n"
     ]
    }
   ],
   "source": [
    "# 生成新dataframe 储存 交通信息\n",
    "traffic_index=['机场','铁路','高速','公路','公交','地铁']\n",
    "len(data_sm_modify.index)\n",
    "zero_data = np.zeros(shape=(len(data_sm_modify.index),len(traffic_index)))\n",
    "print(zero_data.shape)\n",
    "df_traffic= pd.DataFrame(zero_data, columns=traffic_index,index=data_sm_modify.index)\n",
    "\n",
    "# 储存 基础设施\n",
    "infrus_index=['厂房','食堂','宿舍','学校','医院','超市','商场','菜市','市区']\n",
    "len(data_sm_modify.index)\n",
    "zero_data = np.zeros(shape=(len(data_sm_modify.index),len(infrus_index)))\n",
    "print(zero_data.shape)\n",
    "df_infrus= pd.DataFrame(zero_data, columns=infrus_index,index=data_sm_modify.index)\n",
    "\n",
    "# 资源 + 其他\n",
    "resource_index=['煤炭','矿']\n",
    "len(data_sm_modify.index)\n",
    "zero_data = np.zeros(shape=(len(data_sm_modify.index),len(resource_index)))\n",
    "print(zero_data.shape)\n",
    "df_resource= pd.DataFrame(zero_data, columns=resource_index,index=data_sm_modify.index)"
   ]
  },
  {
   "cell_type": "code",
   "execution_count": 11,
   "metadata": {
    "collapsed": false
   },
   "outputs": [],
   "source": [
    "\n",
    "## 交通\n",
    "def traffic_info(candidate_traffic):\n",
    "    traffic_array=[0]*len(traffic_index)\n",
    "    traffic_array2=[0]*len(traffic_index)\n",
    "    for i in range(len(traffic_index)):\n",
    "        if traffic_index[i] in candidate_traffic:\n",
    "            traffic_array[i]=1\n",
    "    return traffic_array\n",
    "\n",
    "## 基础设施\n",
    "\n",
    "def infrus_info(candidate_infrus):\n",
    "    infrus_array=[0]*len(infrus_index)\n",
    "   \n",
    "    for i in range(len(infrus_index)):\n",
    "        if infrus_index[i] in candidate_infrus:\n",
    "            infrus_array[i]=1\n",
    "    return infrus_array\n",
    "\n",
    "## 资源 + 其他 \n",
    "def resource_info(candidate_resource):\n",
    "    resource_array=[0]*len(resource_index)\n",
    "    for i in range(len(resource_index)):\n",
    "        if resource_index[i] in candidate_resource:\n",
    "            resource_array[i]=1\n",
    "    return resource_array"
   ]
  },
  {
   "cell_type": "code",
   "execution_count": 12,
   "metadata": {
    "collapsed": false
   },
   "outputs": [],
   "source": [
    "temp=data_sm_modify['详细信息'].apply(traffic_info)\n",
    "for i in df_traffic.index:\n",
    "    df_traffic.ix[i,0:len(traffic_index)]=temp[i]\n",
    "    \n",
    "temp=data_sm_modify['详细信息'].apply(infrus_info)\n",
    "for i in df_infrus.index:\n",
    "    df_infrus.ix[i,0:len(infrus_index)]=temp[i]\n",
    "\n",
    "temp=data_sm_modify['详细信息'].apply(resource_info)\n",
    "for i in df_resource.index:\n",
    "    df_resource.ix[i,0:len(resource_index)]=temp[i]"
   ]
  },
  {
   "cell_type": "code",
   "execution_count": 159,
   "metadata": {
    "collapsed": false
   },
   "outputs": [],
   "source": [
    "# df_traffic['ID']=data_sm_modify['ID']\n",
    "# df_infrus['ID']=data_sm_modify['ID']\n",
    "# df_resource['ID']=data_sm_modify['ID']"
   ]
  },
  {
   "cell_type": "code",
   "execution_count": 13,
   "metadata": {
    "collapsed": false
   },
   "outputs": [
    {
     "data": {
      "text/html": [
       "<div style=\"max-height:1000px;max-width:1500px;overflow:auto;\">\n",
       "<table border=\"1\" class=\"dataframe\">\n",
       "  <thead>\n",
       "    <tr style=\"text-align: right;\">\n",
       "      <th></th>\n",
       "      <th>机场</th>\n",
       "      <th>铁路</th>\n",
       "      <th>高速</th>\n",
       "      <th>公路</th>\n",
       "      <th>公交</th>\n",
       "      <th>地铁</th>\n",
       "    </tr>\n",
       "  </thead>\n",
       "  <tbody>\n",
       "    <tr>\n",
       "      <th>0</th>\n",
       "      <td>0</td>\n",
       "      <td>0</td>\n",
       "      <td>1</td>\n",
       "      <td>1</td>\n",
       "      <td>0</td>\n",
       "      <td>0</td>\n",
       "    </tr>\n",
       "    <tr>\n",
       "      <th>1</th>\n",
       "      <td>0</td>\n",
       "      <td>0</td>\n",
       "      <td>1</td>\n",
       "      <td>1</td>\n",
       "      <td>0</td>\n",
       "      <td>0</td>\n",
       "    </tr>\n",
       "    <tr>\n",
       "      <th>2</th>\n",
       "      <td>1</td>\n",
       "      <td>1</td>\n",
       "      <td>1</td>\n",
       "      <td>1</td>\n",
       "      <td>1</td>\n",
       "      <td>1</td>\n",
       "    </tr>\n",
       "    <tr>\n",
       "      <th>3</th>\n",
       "      <td>1</td>\n",
       "      <td>1</td>\n",
       "      <td>1</td>\n",
       "      <td>1</td>\n",
       "      <td>1</td>\n",
       "      <td>1</td>\n",
       "    </tr>\n",
       "    <tr>\n",
       "      <th>4</th>\n",
       "      <td>1</td>\n",
       "      <td>0</td>\n",
       "      <td>1</td>\n",
       "      <td>1</td>\n",
       "      <td>0</td>\n",
       "      <td>0</td>\n",
       "    </tr>\n",
       "  </tbody>\n",
       "</table>\n",
       "</div>"
      ],
      "text/plain": [
       "   机场  铁路  高速  公路  公交  地铁\n",
       "0   0   0   1   1   0   0\n",
       "1   0   0   1   1   0   0\n",
       "2   1   1   1   1   1   1\n",
       "3   1   1   1   1   1   1\n",
       "4   1   0   1   1   0   0"
      ]
     },
     "execution_count": 13,
     "metadata": {},
     "output_type": "execute_result"
    }
   ],
   "source": [
    "df_traffic.head(5)"
   ]
  },
  {
   "cell_type": "code",
   "execution_count": 14,
   "metadata": {
    "collapsed": false,
    "scrolled": true
   },
   "outputs": [
    {
     "data": {
      "text/html": [
       "<div style=\"max-height:1000px;max-width:1500px;overflow:auto;\">\n",
       "<table border=\"1\" class=\"dataframe\">\n",
       "  <thead>\n",
       "    <tr style=\"text-align: right;\">\n",
       "      <th></th>\n",
       "      <th>厂房</th>\n",
       "      <th>食堂</th>\n",
       "      <th>宿舍</th>\n",
       "      <th>学校</th>\n",
       "      <th>医院</th>\n",
       "      <th>超市</th>\n",
       "      <th>商场</th>\n",
       "      <th>菜市</th>\n",
       "      <th>市区</th>\n",
       "    </tr>\n",
       "  </thead>\n",
       "  <tbody>\n",
       "    <tr>\n",
       "      <th>0</th>\n",
       "      <td>0</td>\n",
       "      <td>0</td>\n",
       "      <td>0</td>\n",
       "      <td>0</td>\n",
       "      <td>0</td>\n",
       "      <td>0</td>\n",
       "      <td>0</td>\n",
       "      <td>0</td>\n",
       "      <td>1</td>\n",
       "    </tr>\n",
       "    <tr>\n",
       "      <th>1</th>\n",
       "      <td>0</td>\n",
       "      <td>0</td>\n",
       "      <td>0</td>\n",
       "      <td>0</td>\n",
       "      <td>0</td>\n",
       "      <td>0</td>\n",
       "      <td>0</td>\n",
       "      <td>0</td>\n",
       "      <td>1</td>\n",
       "    </tr>\n",
       "    <tr>\n",
       "      <th>2</th>\n",
       "      <td>1</td>\n",
       "      <td>0</td>\n",
       "      <td>0</td>\n",
       "      <td>1</td>\n",
       "      <td>1</td>\n",
       "      <td>1</td>\n",
       "      <td>1</td>\n",
       "      <td>1</td>\n",
       "      <td>0</td>\n",
       "    </tr>\n",
       "    <tr>\n",
       "      <th>3</th>\n",
       "      <td>1</td>\n",
       "      <td>0</td>\n",
       "      <td>1</td>\n",
       "      <td>1</td>\n",
       "      <td>1</td>\n",
       "      <td>1</td>\n",
       "      <td>1</td>\n",
       "      <td>1</td>\n",
       "      <td>0</td>\n",
       "    </tr>\n",
       "    <tr>\n",
       "      <th>4</th>\n",
       "      <td>1</td>\n",
       "      <td>0</td>\n",
       "      <td>0</td>\n",
       "      <td>1</td>\n",
       "      <td>0</td>\n",
       "      <td>1</td>\n",
       "      <td>1</td>\n",
       "      <td>1</td>\n",
       "      <td>0</td>\n",
       "    </tr>\n",
       "  </tbody>\n",
       "</table>\n",
       "</div>"
      ],
      "text/plain": [
       "   厂房  食堂  宿舍  学校  医院  超市  商场  菜市  市区\n",
       "0   0   0   0   0   0   0   0   0   1\n",
       "1   0   0   0   0   0   0   0   0   1\n",
       "2   1   0   0   1   1   1   1   1   0\n",
       "3   1   0   1   1   1   1   1   1   0\n",
       "4   1   0   0   1   0   1   1   1   0"
      ]
     },
     "execution_count": 14,
     "metadata": {},
     "output_type": "execute_result"
    }
   ],
   "source": [
    "df_infrus.head(5)"
   ]
  },
  {
   "cell_type": "markdown",
   "metadata": {},
   "source": [
    "\n",
    "# 合并"
   ]
  },
  {
   "cell_type": "code",
   "execution_count": 17,
   "metadata": {
    "collapsed": false
   },
   "outputs": [
    {
     "ename": "AttributeError",
     "evalue": "'module' object has no attribute 'join'",
     "output_type": "error",
     "traceback": [
      "\u001b[1;31m---------------------------------------------------------------------------\u001b[0m",
      "\u001b[1;31mAttributeError\u001b[0m                            Traceback (most recent call last)",
      "\u001b[1;32m<ipython-input-17-580e26e4fa47>\u001b[0m in \u001b[0;36m<module>\u001b[1;34m()\u001b[0m\n\u001b[1;32m----> 1\u001b[1;33m \u001b[0mdf_specify_info\u001b[0m\u001b[1;33m=\u001b[0m\u001b[0mpd\u001b[0m\u001b[1;33m.\u001b[0m\u001b[0mjoin\u001b[0m\u001b[1;33m(\u001b[0m\u001b[1;33m[\u001b[0m\u001b[0mdf_land\u001b[0m\u001b[1;33m,\u001b[0m\u001b[0mdf_traffic\u001b[0m\u001b[1;33m,\u001b[0m\u001b[0mdf_infrus\u001b[0m\u001b[1;33m,\u001b[0m\u001b[0mdf_resource\u001b[0m\u001b[1;33m]\u001b[0m\u001b[1;33m)\u001b[0m\u001b[1;33m\u001b[0m\u001b[0m\n\u001b[0m\u001b[0;32m      2\u001b[0m \u001b[0mdf_specify_info\u001b[0m\u001b[1;33m.\u001b[0m\u001b[0mhead\u001b[0m\u001b[1;33m(\u001b[0m\u001b[1;36m5\u001b[0m\u001b[1;33m)\u001b[0m\u001b[1;33m\u001b[0m\u001b[0m\n",
      "\u001b[1;31mAttributeError\u001b[0m: 'module' object has no attribute 'join'"
     ]
    }
   ],
   "source": [
    "#df_specify_info=pd.join([df_land,df_traffic,df_infrus,df_resource])\n",
    "#df_specify_info.head(5)"
   ]
  },
  {
   "cell_type": "code",
   "execution_count": 20,
   "metadata": {
    "collapsed": false
   },
   "outputs": [
    {
     "name": "stdout",
     "output_type": "stream",
     "text": [
      "      给水  排水  通电  通路  通讯  通暖气  通天燃气或煤气  通邮  场地平整      ID ...  食堂  宿舍  学校  医院  \\\n",
      "100    0   0   0   0   0    0        0   0     0  159538 ...   0   0   0   0   \n",
      "112    0   0   0   0   0    0        0   0     0  157320 ...   0   0   0   1   \n",
      "117    1   1   1   1   1    1        1   1     1  157146 ...   0   0   0   0   \n",
      "123    0   0   0   0   0    0        0   0     0  157788 ...   0   0   0   1   \n",
      "140    1   0   1   0   0    0        0   0     1  154450 ...   0   0   0   0   \n",
      "174    1   1   1   1   1    0        0   0     1  154168 ...   0   0   1   1   \n",
      "226    0   0   1   1   1    0        0   0     0  140637 ...   0   0   0   0   \n",
      "257    1   0   1   1   1    0        0   0     0  150801 ...   0   0   0   0   \n",
      "331    0   0   0   0   0    0        0   0     0  151616 ...   0   0   0   0   \n",
      "398    1   1   1   1   1    1        1   1     1  127633 ...   0   0   0   0   \n",
      "433    1   1   1   1   1    1        1   1     1  145865 ...   1   1   0   0   \n",
      "458    1   1   1   1   1    0        0   0     0  146269 ...   0   0   0   0   \n",
      "465    0   0   0   0   0    0        0   0     0  140660 ...   0   0   0   0   \n",
      "468    1   1   1   1   0    0        0   0     1  104702 ...   0   0   0   0   \n",
      "469    1   1   1   1   0    0        0   0     1  103511 ...   0   0   0   0   \n",
      "471    1   1   1   1   1    0        0   0     1  143815 ...   0   0   0   0   \n",
      "496    1   1   1   1   1    1        1   1     1  136227 ...   0   1   0   0   \n",
      "611    1   1   1   1   0    0        0   0     1  139388 ...   0   0   0   0   \n",
      "674    1   1   1   1   1    1        1   1     1  109944 ...   0   1   0   0   \n",
      "682    0   0   0   0   0    0        0   0     0  139938 ...   0   0   0   0   \n",
      "927    1   1   1   1   0    0        0   0     1  101941 ...   0   0   0   0   \n",
      "1136   1   1   1   1   0    0        0   0     1  122703 ...   0   0   0   0   \n",
      "1191   0   1   0   0   0    0        0   0     0  119337 ...   0   0   0   0   \n",
      "1370   1   1   1   1   1    0        1   0     1  110727 ...   0   0   0   0   \n",
      "1420   1   1   1   1   1    1        1   1     1   85759 ...   0   0   0   0   \n",
      "1429   0   0   0   0   0    0        0   0     0  108650 ...   0   0   0   0   \n",
      "1458   0   0   0   0   0    0        0   0     0   52575 ...   0   0   0   0   \n",
      "1466   0   0   0   0   0    0        0   0     0   50661 ...   0   0   0   0   \n",
      "\n",
      "      超市  商场  菜市  市区  煤炭  矿  \n",
      "100    0   0   0   0   0  1  \n",
      "112    0   0   0   0   0  1  \n",
      "117    0   0   0   1   0  1  \n",
      "123    0   0   0   0   0  1  \n",
      "140    0   0   0   0   0  1  \n",
      "174    1   1   1   0   0  1  \n",
      "226    0   0   0   0   0  1  \n",
      "257    0   0   0   0   0  1  \n",
      "331    0   0   0   0   0  1  \n",
      "398    0   0   0   0   0  1  \n",
      "433    0   0   0   0   0  1  \n",
      "458    0   0   0   0   0  1  \n",
      "465    0   0   0   0   0  1  \n",
      "468    0   0   0   0   0  1  \n",
      "469    0   0   0   0   0  1  \n",
      "471    1   1   0   1   0  1  \n",
      "496    0   0   0   0   0  1  \n",
      "611    0   0   0   0   0  1  \n",
      "674    0   0   0   0   0  1  \n",
      "682    0   0   0   0   0  1  \n",
      "927    0   0   0   0   0  1  \n",
      "1136   0   0   0   0   0  1  \n",
      "1191   0   0   0   0   0  1  \n",
      "1370   0   0   0   0   0  1  \n",
      "1420   0   0   0   0   0  1  \n",
      "1429   0   0   0   0   0  1  \n",
      "1458   0   0   0   0   0  1  \n",
      "1466   0   0   0   0   0  1  \n",
      "\n",
      "[28 rows x 27 columns]\n"
     ]
    }
   ],
   "source": [
    "df_spec_info=df_land.join([df_traffic,df_infrus,df_resource],on=None )\n",
    "df_spec_info.head(5)\n",
    "#df_spec_info=df_spec_info.drop('temp_index',1)\n",
    "df_spec_info.columns.values\n",
    "print(df_spec_info[df_spec_info['矿']==1]) "
   ]
  },
  {
   "cell_type": "code",
   "execution_count": 22,
   "metadata": {
    "collapsed": false
   },
   "outputs": [],
   "source": [
    "writer = pd.ExcelWriter('F:\\\\DATAbase\\\\land\\\\industry_specify_info.xlsx')\n",
    "df_spec_info.to_excel(writer,'Sheet1')\n",
    "writer.save()"
   ]
  },
  {
   "cell_type": "code",
   "execution_count": null,
   "metadata": {
    "collapsed": true
   },
   "outputs": [],
   "source": []
  }
 ],
 "metadata": {
  "kernelspec": {
   "display_name": "Python 3",
   "language": "python",
   "name": "python3"
  },
  "language_info": {
   "codemirror_mode": {
    "name": "ipython",
    "version": 3
   },
   "file_extension": ".py",
   "mimetype": "text/x-python",
   "name": "python",
   "nbconvert_exporter": "python",
   "pygments_lexer": "ipython3",
   "version": "3.4.3"
  }
 },
 "nbformat": 4,
 "nbformat_minor": 0
}
