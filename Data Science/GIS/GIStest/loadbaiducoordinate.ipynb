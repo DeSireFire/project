{
 "cells": [
  {
   "cell_type": "code",
   "execution_count": 5,
   "metadata": {
    "collapsed": false,
    "scrolled": true
   },
   "outputs": [
    {
     "name": "stdout",
     "output_type": "stream",
     "text": [
      "18dfc82d93fd4aa1ab5166971c04ea36\n",
      "http://api.map.baidu.com/geocoder/v2/?address=泉山区人民法院&city=徐州市&output=json&ak=9gTAEoFWvBoKHl3u3dFp5ff7&sn=18dfc82d93fd4aa1ab5166971c04ea36\n",
      "34.2225783605 117.179290059\n"
     ]
    }
   ],
   "source": [
    "# -*- coding: utf-8 -*- \n",
    "\n",
    "import pandas as pd\n",
    "from pandas import Series,DataFrame\n",
    "import urllib\n",
    "import hashlib\n",
    "import requests\n",
    "import math\n",
    "import re\n",
    "import json\n",
    "\n",
    "pattern_x=re.compile(r'\"x\":(\".+?\")')\n",
    "pattern_y=re.compile(r'\"y\":(\".+?\")')\n",
    "\n",
    "df = pd.read_csv('beijingsample.csv',sep=',')\n",
    " \n",
    "# 以get请求为例http://api.map.baidu.com/geocoder/v2/?address=百度大厦&output=json&ak=yourak\n",
    "queryStr = '/geocoder/v2/?address=泉山区人民法院&city=徐州市&output=json&ak=9gTAEoFWvBoKHl3u3dFp5ff7'\n",
    " \n",
    "# 对queryStr进行转码，safe内的保留字符不转换\n",
    "encodedStr = urllib.quote(queryStr, safe=\"/:=&?#+!$,;'@()*[]\")\n",
    " \n",
    "# 在最后直接追加上yoursk\n",
    "rawStr = encodedStr + 'DTtxldoesco94o9YZT3RuGlKarBGr7Xv'\n",
    "\n",
    "sn = hashlib.md5(urllib.quote_plus(rawStr)).hexdigest()\n",
    "\n",
    "api_link = 'http://api.map.baidu.com'+queryStr+\"&sn=\"+sn\n",
    " \n",
    "# md5计算出的sn值7de5a22212ffaa9e326444c75a58f9a0\n",
    "# 最终合法请求url是http://api.map.baidu.com/geocoder/v2/?address=百度大厦&output=json&ak=yourak&sn=7de5a22212ffaa9e326444c75a58f9a0\n",
    "print hashlib.md5(urllib.quote_plus(rawStr)).hexdigest()\n",
    "print api_link\n",
    "req = requests.get(api_link)\n",
    "content = json.loads(req.content)\n",
    "result = content[u'result']\n",
    "location = result[u'location']\n",
    "x = location[u'lat']\n",
    "y = location[u'lng']\n",
    "print x,y\n"
   ]
  },
  {
   "cell_type": "code",
   "execution_count": 6,
   "metadata": {
    "collapsed": false
   },
   "outputs": [
    {
     "name": "stdout",
     "output_type": "stream",
     "text": [
      "18dfc82d93fd4aa1ab5166971c04ea36\n",
      "http://api.map.baidu.com/geocoder/v2/?address=泉山区人民法院&city=徐州市&output=json&ak=9gTAEoFWvBoKHl3u3dFp5ff7&sn=18dfc82d93fd4aa1ab5166971c04ea36\n",
      "34.2225783605 117.179290059\n"
     ]
    }
   ],
   "source": [
    "\n",
    "pattern_x=re.compile(r'\"x\":(\".+?\")')\n",
    "pattern_y=re.compile(r'\"y\":(\".+?\")')\n",
    "\n",
    "df = pd.read_csv('beijingsample.csv',sep=',')\n",
    " \n",
    "# 以get请求为例http://api.map.baidu.com/geocoder/v2/?address=百度大厦&output=json&ak=yourak\n",
    "queryStr = '/geocoder/v2/?address=泉山区人民法院&city=徐州市&output=json&ak=9gTAEoFWvBoKHl3u3dFp5ff7'\n",
    " \n",
    "# 对queryStr进行转码，safe内的保留字符不转换\n",
    "encodedStr = urllib.quote(queryStr, safe=\"/:=&?#+!$,;'@()*[]\")\n",
    " \n",
    "# 在最后直接追加上yoursk\n",
    "rawStr = encodedStr + 'DTtxldoesco94o9YZT3RuGlKarBGr7Xv'\n",
    "\n",
    "sn = hashlib.md5(urllib.quote_plus(rawStr)).hexdigest()\n",
    "\n",
    "api_link = 'http://api.map.baidu.com'+queryStr+\"&sn=\"+sn\n",
    " \n",
    "# md5计算出的sn值7de5a22212ffaa9e326444c75a58f9a0\n",
    "# 最终合法请求url是http://api.map.baidu.com/geocoder/v2/?address=百度大厦&output=json&ak=yourak&sn=7de5a22212ffaa9e326444c75a58f9a0\n",
    "print hashlib.md5(urllib.quote_plus(rawStr)).hexdigest()\n",
    "print api_link\n",
    "req = requests.get(api_link)\n",
    "content = json.loads(req.content)\n",
    "result = content[u'result']\n",
    "location = result[u'location']\n",
    "x = location[u'lat']\n",
    "y = location[u'lng']\n",
    "print x,y"
   ]
  },
  {
   "cell_type": "code",
   "execution_count": 3,
   "metadata": {
    "collapsed": false
   },
   "outputs": [
    {
     "data": {
      "text/plain": [
       "{u'result': {u'confidence': 14,\n",
       "  u'level': u'\\u533a\\u53bf',\n",
       "  u'location': {u'lat': 29.978040053661, u'lng': 120.88943232283},\n",
       "  u'precise': 0},\n",
       " u'status': 0}"
      ]
     },
     "execution_count": 3,
     "metadata": {},
     "output_type": "execute_result"
    }
   ],
   "source": [
    "content"
   ]
  },
  {
   "cell_type": "code",
   "execution_count": 18,
   "metadata": {
    "collapsed": false,
    "scrolled": true
   },
   "outputs": [
    {
     "ename": "ValueError",
     "evalue": "dictionary update sequence element #1 has length 4; 2 is required",
     "output_type": "error",
     "traceback": [
      "\u001b[1;31m---------------------------------------------------------------------------\u001b[0m",
      "\u001b[1;31mValueError\u001b[0m                                Traceback (most recent call last)",
      "\u001b[1;32m<ipython-input-18-9db907ae9789>\u001b[0m in \u001b[0;36m<module>\u001b[1;34m()\u001b[0m\n\u001b[1;32m----> 1\u001b[1;33m \u001b[0mtempdict\u001b[0m\u001b[1;33m=\u001b[0m\u001b[0mdict\u001b[0m\u001b[1;33m(\u001b[0m\u001b[0me\u001b[0m\u001b[1;33m.\u001b[0m\u001b[0msplit\u001b[0m\u001b[1;33m(\u001b[0m\u001b[1;34m':'\u001b[0m\u001b[1;33m)\u001b[0m \u001b[1;32mfor\u001b[0m \u001b[0me\u001b[0m \u001b[1;32min\u001b[0m \u001b[0mcontent\u001b[0m\u001b[1;33m.\u001b[0m\u001b[0msplit\u001b[0m\u001b[1;33m(\u001b[0m\u001b[1;34m','\u001b[0m\u001b[1;33m)\u001b[0m \u001b[1;33m)\u001b[0m\u001b[1;33m\u001b[0m\u001b[0m\n\u001b[0m",
      "\u001b[1;31mValueError\u001b[0m: dictionary update sequence element #1 has length 4; 2 is required"
     ]
    }
   ],
   "source": [
    "tempdict=dict(e.split(':') for e in content.split(',') )"
   ]
  },
  {
   "cell_type": "code",
   "execution_count": 19,
   "metadata": {
    "collapsed": false,
    "scrolled": true
   },
   "outputs": [
    {
     "data": {
      "text/plain": [
       "['{\"status\":0',\n",
       " '\"result\":{\"location\":{\"lng\":116.30783584945',\n",
       " '\"lat\":40.056876296398}',\n",
       " '\"precise\":1',\n",
       " '\"confidence\":80',\n",
       " '\"level\":\"\\\\u5546\\\\u52a1\\\\u5927\\\\u53a6\"}}']"
      ]
     },
     "execution_count": 19,
     "metadata": {},
     "output_type": "execute_result"
    }
   ],
   "source": [
    "content.split(',')"
   ]
  },
  {
   "cell_type": "code",
   "execution_count": 26,
   "metadata": {
    "collapsed": false
   },
   "outputs": [],
   "source": [
    "test = json.loads(content)"
   ]
  },
  {
   "cell_type": "code",
   "execution_count": 41,
   "metadata": {
    "collapsed": false
   },
   "outputs": [
    {
     "data": {
      "text/plain": [
       "{u'lat': 40.056876296398, u'lng': 116.30783584945}"
      ]
     },
     "execution_count": 41,
     "metadata": {},
     "output_type": "execute_result"
    }
   ],
   "source": [
    "test3"
   ]
  },
  {
   "cell_type": "code",
   "execution_count": 35,
   "metadata": {
    "collapsed": false
   },
   "outputs": [
    {
     "data": {
      "text/plain": [
       "{u'confidence': 80,\n",
       " u'level': u'\\u5546\\u52a1\\u5927\\u53a6',\n",
       " u'location': {u'lat': 40.056876296398, u'lng': 116.30783584945},\n",
       " u'precise': 1}"
      ]
     },
     "execution_count": 35,
     "metadata": {},
     "output_type": "execute_result"
    }
   ],
   "source": [
    "test[u'result']"
   ]
  },
  {
   "cell_type": "code",
   "execution_count": 40,
   "metadata": {
    "collapsed": false
   },
   "outputs": [],
   "source": [
    "test3=test2[u'location']"
   ]
  },
  {
   "cell_type": "code",
   "execution_count": null,
   "metadata": {
    "collapsed": true
   },
   "outputs": [],
   "source": []
  }
 ],
 "metadata": {
  "kernelspec": {
   "display_name": "Python 2",
   "language": "python",
   "name": "python2"
  },
  "language_info": {
   "codemirror_mode": {
    "name": "ipython",
    "version": 2
   },
   "file_extension": ".py",
   "mimetype": "text/x-python",
   "name": "python",
   "nbconvert_exporter": "python",
   "pygments_lexer": "ipython2",
   "version": "2.7.9"
  }
 },
 "nbformat": 4,
 "nbformat_minor": 0
}
